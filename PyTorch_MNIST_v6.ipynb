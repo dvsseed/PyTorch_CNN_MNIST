{
  "nbformat": 4,
  "nbformat_minor": 0,
  "metadata": {
    "colab": {
      "name": "PyTorch_MNIST_v6.ipynb",
      "provenance": [],
      "collapsed_sections": [
        "9F7HcvB6Zm1w"
      ],
      "include_colab_link": true
    },
    "kernelspec": {
      "name": "python3",
      "display_name": "Python 3"
    },
    "widgets": {
      "application/vnd.jupyter.widget-state+json": {
        "212c4ced32ae4ce48e8eb8658d3a99a0": {
          "model_module": "@jupyter-widgets/controls",
          "model_name": "HBoxModel",
          "state": {
            "_view_name": "HBoxView",
            "_dom_classes": [],
            "_model_name": "HBoxModel",
            "_view_module": "@jupyter-widgets/controls",
            "_model_module_version": "1.5.0",
            "_view_count": null,
            "_view_module_version": "1.5.0",
            "box_style": "",
            "layout": "IPY_MODEL_6e8a0256d4e44674b9d2f89a61582d38",
            "_model_module": "@jupyter-widgets/controls",
            "children": [
              "IPY_MODEL_dd8a8a1535ae4b25b8155f182bdd00ae",
              "IPY_MODEL_a15c2feb140f4815b074596d64bc094d"
            ]
          }
        },
        "6e8a0256d4e44674b9d2f89a61582d38": {
          "model_module": "@jupyter-widgets/base",
          "model_name": "LayoutModel",
          "state": {
            "_view_name": "LayoutView",
            "grid_template_rows": null,
            "right": null,
            "justify_content": null,
            "_view_module": "@jupyter-widgets/base",
            "overflow": null,
            "_model_module_version": "1.2.0",
            "_view_count": null,
            "flex_flow": null,
            "width": null,
            "min_width": null,
            "border": null,
            "align_items": null,
            "bottom": null,
            "_model_module": "@jupyter-widgets/base",
            "top": null,
            "grid_column": null,
            "overflow_y": null,
            "overflow_x": null,
            "grid_auto_flow": null,
            "grid_area": null,
            "grid_template_columns": null,
            "flex": null,
            "_model_name": "LayoutModel",
            "justify_items": null,
            "grid_row": null,
            "max_height": null,
            "align_content": null,
            "visibility": null,
            "align_self": null,
            "height": null,
            "min_height": null,
            "padding": null,
            "grid_auto_rows": null,
            "grid_gap": null,
            "max_width": null,
            "order": null,
            "_view_module_version": "1.2.0",
            "grid_template_areas": null,
            "object_position": null,
            "object_fit": null,
            "grid_auto_columns": null,
            "margin": null,
            "display": null,
            "left": null
          }
        },
        "dd8a8a1535ae4b25b8155f182bdd00ae": {
          "model_module": "@jupyter-widgets/controls",
          "model_name": "FloatProgressModel",
          "state": {
            "_view_name": "ProgressView",
            "style": "IPY_MODEL_eb7c78934f214e4b98536b976319920f",
            "_dom_classes": [],
            "description": "",
            "_model_name": "FloatProgressModel",
            "bar_style": "info",
            "max": 1,
            "_view_module": "@jupyter-widgets/controls",
            "_model_module_version": "1.5.0",
            "value": 1,
            "_view_count": null,
            "_view_module_version": "1.5.0",
            "orientation": "horizontal",
            "min": 0,
            "description_tooltip": null,
            "_model_module": "@jupyter-widgets/controls",
            "layout": "IPY_MODEL_001247ee13ac43dcab7424be6ac614d7"
          }
        },
        "a15c2feb140f4815b074596d64bc094d": {
          "model_module": "@jupyter-widgets/controls",
          "model_name": "HTMLModel",
          "state": {
            "_view_name": "HTMLView",
            "style": "IPY_MODEL_b41bd0dc39fb427ca8c60de751c58e70",
            "_dom_classes": [],
            "description": "",
            "_model_name": "HTMLModel",
            "placeholder": "​",
            "_view_module": "@jupyter-widgets/controls",
            "_model_module_version": "1.5.0",
            "value": " 9920512/? [00:20&lt;00:00, 1918897.37it/s]",
            "_view_count": null,
            "_view_module_version": "1.5.0",
            "description_tooltip": null,
            "_model_module": "@jupyter-widgets/controls",
            "layout": "IPY_MODEL_b1be582ae1bd4aa39a265567051ce639"
          }
        },
        "eb7c78934f214e4b98536b976319920f": {
          "model_module": "@jupyter-widgets/controls",
          "model_name": "ProgressStyleModel",
          "state": {
            "_view_name": "StyleView",
            "_model_name": "ProgressStyleModel",
            "description_width": "initial",
            "_view_module": "@jupyter-widgets/base",
            "_model_module_version": "1.5.0",
            "_view_count": null,
            "_view_module_version": "1.2.0",
            "bar_color": null,
            "_model_module": "@jupyter-widgets/controls"
          }
        },
        "001247ee13ac43dcab7424be6ac614d7": {
          "model_module": "@jupyter-widgets/base",
          "model_name": "LayoutModel",
          "state": {
            "_view_name": "LayoutView",
            "grid_template_rows": null,
            "right": null,
            "justify_content": null,
            "_view_module": "@jupyter-widgets/base",
            "overflow": null,
            "_model_module_version": "1.2.0",
            "_view_count": null,
            "flex_flow": null,
            "width": null,
            "min_width": null,
            "border": null,
            "align_items": null,
            "bottom": null,
            "_model_module": "@jupyter-widgets/base",
            "top": null,
            "grid_column": null,
            "overflow_y": null,
            "overflow_x": null,
            "grid_auto_flow": null,
            "grid_area": null,
            "grid_template_columns": null,
            "flex": null,
            "_model_name": "LayoutModel",
            "justify_items": null,
            "grid_row": null,
            "max_height": null,
            "align_content": null,
            "visibility": null,
            "align_self": null,
            "height": null,
            "min_height": null,
            "padding": null,
            "grid_auto_rows": null,
            "grid_gap": null,
            "max_width": null,
            "order": null,
            "_view_module_version": "1.2.0",
            "grid_template_areas": null,
            "object_position": null,
            "object_fit": null,
            "grid_auto_columns": null,
            "margin": null,
            "display": null,
            "left": null
          }
        },
        "b41bd0dc39fb427ca8c60de751c58e70": {
          "model_module": "@jupyter-widgets/controls",
          "model_name": "DescriptionStyleModel",
          "state": {
            "_view_name": "StyleView",
            "_model_name": "DescriptionStyleModel",
            "description_width": "",
            "_view_module": "@jupyter-widgets/base",
            "_model_module_version": "1.5.0",
            "_view_count": null,
            "_view_module_version": "1.2.0",
            "_model_module": "@jupyter-widgets/controls"
          }
        },
        "b1be582ae1bd4aa39a265567051ce639": {
          "model_module": "@jupyter-widgets/base",
          "model_name": "LayoutModel",
          "state": {
            "_view_name": "LayoutView",
            "grid_template_rows": null,
            "right": null,
            "justify_content": null,
            "_view_module": "@jupyter-widgets/base",
            "overflow": null,
            "_model_module_version": "1.2.0",
            "_view_count": null,
            "flex_flow": null,
            "width": null,
            "min_width": null,
            "border": null,
            "align_items": null,
            "bottom": null,
            "_model_module": "@jupyter-widgets/base",
            "top": null,
            "grid_column": null,
            "overflow_y": null,
            "overflow_x": null,
            "grid_auto_flow": null,
            "grid_area": null,
            "grid_template_columns": null,
            "flex": null,
            "_model_name": "LayoutModel",
            "justify_items": null,
            "grid_row": null,
            "max_height": null,
            "align_content": null,
            "visibility": null,
            "align_self": null,
            "height": null,
            "min_height": null,
            "padding": null,
            "grid_auto_rows": null,
            "grid_gap": null,
            "max_width": null,
            "order": null,
            "_view_module_version": "1.2.0",
            "grid_template_areas": null,
            "object_position": null,
            "object_fit": null,
            "grid_auto_columns": null,
            "margin": null,
            "display": null,
            "left": null
          }
        },
        "d757a9e6ee894d2c9bcca71303431ca6": {
          "model_module": "@jupyter-widgets/controls",
          "model_name": "HBoxModel",
          "state": {
            "_view_name": "HBoxView",
            "_dom_classes": [],
            "_model_name": "HBoxModel",
            "_view_module": "@jupyter-widgets/controls",
            "_model_module_version": "1.5.0",
            "_view_count": null,
            "_view_module_version": "1.5.0",
            "box_style": "",
            "layout": "IPY_MODEL_fdfeec7d875e4f2b90ae7cb5e9556e34",
            "_model_module": "@jupyter-widgets/controls",
            "children": [
              "IPY_MODEL_c42a68f185fc451b9e233e75cae960b0",
              "IPY_MODEL_75601e7343ef4af394f207e384ce605f"
            ]
          }
        },
        "fdfeec7d875e4f2b90ae7cb5e9556e34": {
          "model_module": "@jupyter-widgets/base",
          "model_name": "LayoutModel",
          "state": {
            "_view_name": "LayoutView",
            "grid_template_rows": null,
            "right": null,
            "justify_content": null,
            "_view_module": "@jupyter-widgets/base",
            "overflow": null,
            "_model_module_version": "1.2.0",
            "_view_count": null,
            "flex_flow": null,
            "width": null,
            "min_width": null,
            "border": null,
            "align_items": null,
            "bottom": null,
            "_model_module": "@jupyter-widgets/base",
            "top": null,
            "grid_column": null,
            "overflow_y": null,
            "overflow_x": null,
            "grid_auto_flow": null,
            "grid_area": null,
            "grid_template_columns": null,
            "flex": null,
            "_model_name": "LayoutModel",
            "justify_items": null,
            "grid_row": null,
            "max_height": null,
            "align_content": null,
            "visibility": null,
            "align_self": null,
            "height": null,
            "min_height": null,
            "padding": null,
            "grid_auto_rows": null,
            "grid_gap": null,
            "max_width": null,
            "order": null,
            "_view_module_version": "1.2.0",
            "grid_template_areas": null,
            "object_position": null,
            "object_fit": null,
            "grid_auto_columns": null,
            "margin": null,
            "display": null,
            "left": null
          }
        },
        "c42a68f185fc451b9e233e75cae960b0": {
          "model_module": "@jupyter-widgets/controls",
          "model_name": "FloatProgressModel",
          "state": {
            "_view_name": "ProgressView",
            "style": "IPY_MODEL_14960addd36c4676a46ce9f4e94de674",
            "_dom_classes": [],
            "description": "",
            "_model_name": "FloatProgressModel",
            "bar_style": "success",
            "max": 1,
            "_view_module": "@jupyter-widgets/controls",
            "_model_module_version": "1.5.0",
            "value": 1,
            "_view_count": null,
            "_view_module_version": "1.5.0",
            "orientation": "horizontal",
            "min": 0,
            "description_tooltip": null,
            "_model_module": "@jupyter-widgets/controls",
            "layout": "IPY_MODEL_fd4a8599c2e44861a57492d70fe4dae4"
          }
        },
        "75601e7343ef4af394f207e384ce605f": {
          "model_module": "@jupyter-widgets/controls",
          "model_name": "HTMLModel",
          "state": {
            "_view_name": "HTMLView",
            "style": "IPY_MODEL_015a21e39e5b44809d528810f468ac81",
            "_dom_classes": [],
            "description": "",
            "_model_name": "HTMLModel",
            "placeholder": "​",
            "_view_module": "@jupyter-widgets/controls",
            "_model_module_version": "1.5.0",
            "value": " 32768/? [00:01&lt;00:00, 30813.57it/s]",
            "_view_count": null,
            "_view_module_version": "1.5.0",
            "description_tooltip": null,
            "_model_module": "@jupyter-widgets/controls",
            "layout": "IPY_MODEL_42e16b70cadf459f951103f5036797f6"
          }
        },
        "14960addd36c4676a46ce9f4e94de674": {
          "model_module": "@jupyter-widgets/controls",
          "model_name": "ProgressStyleModel",
          "state": {
            "_view_name": "StyleView",
            "_model_name": "ProgressStyleModel",
            "description_width": "initial",
            "_view_module": "@jupyter-widgets/base",
            "_model_module_version": "1.5.0",
            "_view_count": null,
            "_view_module_version": "1.2.0",
            "bar_color": null,
            "_model_module": "@jupyter-widgets/controls"
          }
        },
        "fd4a8599c2e44861a57492d70fe4dae4": {
          "model_module": "@jupyter-widgets/base",
          "model_name": "LayoutModel",
          "state": {
            "_view_name": "LayoutView",
            "grid_template_rows": null,
            "right": null,
            "justify_content": null,
            "_view_module": "@jupyter-widgets/base",
            "overflow": null,
            "_model_module_version": "1.2.0",
            "_view_count": null,
            "flex_flow": null,
            "width": null,
            "min_width": null,
            "border": null,
            "align_items": null,
            "bottom": null,
            "_model_module": "@jupyter-widgets/base",
            "top": null,
            "grid_column": null,
            "overflow_y": null,
            "overflow_x": null,
            "grid_auto_flow": null,
            "grid_area": null,
            "grid_template_columns": null,
            "flex": null,
            "_model_name": "LayoutModel",
            "justify_items": null,
            "grid_row": null,
            "max_height": null,
            "align_content": null,
            "visibility": null,
            "align_self": null,
            "height": null,
            "min_height": null,
            "padding": null,
            "grid_auto_rows": null,
            "grid_gap": null,
            "max_width": null,
            "order": null,
            "_view_module_version": "1.2.0",
            "grid_template_areas": null,
            "object_position": null,
            "object_fit": null,
            "grid_auto_columns": null,
            "margin": null,
            "display": null,
            "left": null
          }
        },
        "015a21e39e5b44809d528810f468ac81": {
          "model_module": "@jupyter-widgets/controls",
          "model_name": "DescriptionStyleModel",
          "state": {
            "_view_name": "StyleView",
            "_model_name": "DescriptionStyleModel",
            "description_width": "",
            "_view_module": "@jupyter-widgets/base",
            "_model_module_version": "1.5.0",
            "_view_count": null,
            "_view_module_version": "1.2.0",
            "_model_module": "@jupyter-widgets/controls"
          }
        },
        "42e16b70cadf459f951103f5036797f6": {
          "model_module": "@jupyter-widgets/base",
          "model_name": "LayoutModel",
          "state": {
            "_view_name": "LayoutView",
            "grid_template_rows": null,
            "right": null,
            "justify_content": null,
            "_view_module": "@jupyter-widgets/base",
            "overflow": null,
            "_model_module_version": "1.2.0",
            "_view_count": null,
            "flex_flow": null,
            "width": null,
            "min_width": null,
            "border": null,
            "align_items": null,
            "bottom": null,
            "_model_module": "@jupyter-widgets/base",
            "top": null,
            "grid_column": null,
            "overflow_y": null,
            "overflow_x": null,
            "grid_auto_flow": null,
            "grid_area": null,
            "grid_template_columns": null,
            "flex": null,
            "_model_name": "LayoutModel",
            "justify_items": null,
            "grid_row": null,
            "max_height": null,
            "align_content": null,
            "visibility": null,
            "align_self": null,
            "height": null,
            "min_height": null,
            "padding": null,
            "grid_auto_rows": null,
            "grid_gap": null,
            "max_width": null,
            "order": null,
            "_view_module_version": "1.2.0",
            "grid_template_areas": null,
            "object_position": null,
            "object_fit": null,
            "grid_auto_columns": null,
            "margin": null,
            "display": null,
            "left": null
          }
        },
        "15850a9d9a9c4535a60de24a6dc3da97": {
          "model_module": "@jupyter-widgets/controls",
          "model_name": "HBoxModel",
          "state": {
            "_view_name": "HBoxView",
            "_dom_classes": [],
            "_model_name": "HBoxModel",
            "_view_module": "@jupyter-widgets/controls",
            "_model_module_version": "1.5.0",
            "_view_count": null,
            "_view_module_version": "1.5.0",
            "box_style": "",
            "layout": "IPY_MODEL_c2ad52987b1a4ccfa1cc6e152847dc25",
            "_model_module": "@jupyter-widgets/controls",
            "children": [
              "IPY_MODEL_058697b9734f4fa0b3989f2d9d77a1e3",
              "IPY_MODEL_9d207728c04b4de2b015d81eb083f1a2"
            ]
          }
        },
        "c2ad52987b1a4ccfa1cc6e152847dc25": {
          "model_module": "@jupyter-widgets/base",
          "model_name": "LayoutModel",
          "state": {
            "_view_name": "LayoutView",
            "grid_template_rows": null,
            "right": null,
            "justify_content": null,
            "_view_module": "@jupyter-widgets/base",
            "overflow": null,
            "_model_module_version": "1.2.0",
            "_view_count": null,
            "flex_flow": null,
            "width": null,
            "min_width": null,
            "border": null,
            "align_items": null,
            "bottom": null,
            "_model_module": "@jupyter-widgets/base",
            "top": null,
            "grid_column": null,
            "overflow_y": null,
            "overflow_x": null,
            "grid_auto_flow": null,
            "grid_area": null,
            "grid_template_columns": null,
            "flex": null,
            "_model_name": "LayoutModel",
            "justify_items": null,
            "grid_row": null,
            "max_height": null,
            "align_content": null,
            "visibility": null,
            "align_self": null,
            "height": null,
            "min_height": null,
            "padding": null,
            "grid_auto_rows": null,
            "grid_gap": null,
            "max_width": null,
            "order": null,
            "_view_module_version": "1.2.0",
            "grid_template_areas": null,
            "object_position": null,
            "object_fit": null,
            "grid_auto_columns": null,
            "margin": null,
            "display": null,
            "left": null
          }
        },
        "058697b9734f4fa0b3989f2d9d77a1e3": {
          "model_module": "@jupyter-widgets/controls",
          "model_name": "FloatProgressModel",
          "state": {
            "_view_name": "ProgressView",
            "style": "IPY_MODEL_2d60b9f4d74c49e69be3b488cad11252",
            "_dom_classes": [],
            "description": "",
            "_model_name": "FloatProgressModel",
            "bar_style": "success",
            "max": 1,
            "_view_module": "@jupyter-widgets/controls",
            "_model_module_version": "1.5.0",
            "value": 1,
            "_view_count": null,
            "_view_module_version": "1.5.0",
            "orientation": "horizontal",
            "min": 0,
            "description_tooltip": null,
            "_model_module": "@jupyter-widgets/controls",
            "layout": "IPY_MODEL_83b0279ce88544dda880a1c20d63965d"
          }
        },
        "9d207728c04b4de2b015d81eb083f1a2": {
          "model_module": "@jupyter-widgets/controls",
          "model_name": "HTMLModel",
          "state": {
            "_view_name": "HTMLView",
            "style": "IPY_MODEL_12cb181fa530487889f872c023d970ec",
            "_dom_classes": [],
            "description": "",
            "_model_name": "HTMLModel",
            "placeholder": "​",
            "_view_module": "@jupyter-widgets/controls",
            "_model_module_version": "1.5.0",
            "value": " 1654784/? [00:00&lt;00:00, 2124346.54it/s]",
            "_view_count": null,
            "_view_module_version": "1.5.0",
            "description_tooltip": null,
            "_model_module": "@jupyter-widgets/controls",
            "layout": "IPY_MODEL_b12a452fd3604fe4954ac7d99855d8e2"
          }
        },
        "2d60b9f4d74c49e69be3b488cad11252": {
          "model_module": "@jupyter-widgets/controls",
          "model_name": "ProgressStyleModel",
          "state": {
            "_view_name": "StyleView",
            "_model_name": "ProgressStyleModel",
            "description_width": "initial",
            "_view_module": "@jupyter-widgets/base",
            "_model_module_version": "1.5.0",
            "_view_count": null,
            "_view_module_version": "1.2.0",
            "bar_color": null,
            "_model_module": "@jupyter-widgets/controls"
          }
        },
        "83b0279ce88544dda880a1c20d63965d": {
          "model_module": "@jupyter-widgets/base",
          "model_name": "LayoutModel",
          "state": {
            "_view_name": "LayoutView",
            "grid_template_rows": null,
            "right": null,
            "justify_content": null,
            "_view_module": "@jupyter-widgets/base",
            "overflow": null,
            "_model_module_version": "1.2.0",
            "_view_count": null,
            "flex_flow": null,
            "width": null,
            "min_width": null,
            "border": null,
            "align_items": null,
            "bottom": null,
            "_model_module": "@jupyter-widgets/base",
            "top": null,
            "grid_column": null,
            "overflow_y": null,
            "overflow_x": null,
            "grid_auto_flow": null,
            "grid_area": null,
            "grid_template_columns": null,
            "flex": null,
            "_model_name": "LayoutModel",
            "justify_items": null,
            "grid_row": null,
            "max_height": null,
            "align_content": null,
            "visibility": null,
            "align_self": null,
            "height": null,
            "min_height": null,
            "padding": null,
            "grid_auto_rows": null,
            "grid_gap": null,
            "max_width": null,
            "order": null,
            "_view_module_version": "1.2.0",
            "grid_template_areas": null,
            "object_position": null,
            "object_fit": null,
            "grid_auto_columns": null,
            "margin": null,
            "display": null,
            "left": null
          }
        },
        "12cb181fa530487889f872c023d970ec": {
          "model_module": "@jupyter-widgets/controls",
          "model_name": "DescriptionStyleModel",
          "state": {
            "_view_name": "StyleView",
            "_model_name": "DescriptionStyleModel",
            "description_width": "",
            "_view_module": "@jupyter-widgets/base",
            "_model_module_version": "1.5.0",
            "_view_count": null,
            "_view_module_version": "1.2.0",
            "_model_module": "@jupyter-widgets/controls"
          }
        },
        "b12a452fd3604fe4954ac7d99855d8e2": {
          "model_module": "@jupyter-widgets/base",
          "model_name": "LayoutModel",
          "state": {
            "_view_name": "LayoutView",
            "grid_template_rows": null,
            "right": null,
            "justify_content": null,
            "_view_module": "@jupyter-widgets/base",
            "overflow": null,
            "_model_module_version": "1.2.0",
            "_view_count": null,
            "flex_flow": null,
            "width": null,
            "min_width": null,
            "border": null,
            "align_items": null,
            "bottom": null,
            "_model_module": "@jupyter-widgets/base",
            "top": null,
            "grid_column": null,
            "overflow_y": null,
            "overflow_x": null,
            "grid_auto_flow": null,
            "grid_area": null,
            "grid_template_columns": null,
            "flex": null,
            "_model_name": "LayoutModel",
            "justify_items": null,
            "grid_row": null,
            "max_height": null,
            "align_content": null,
            "visibility": null,
            "align_self": null,
            "height": null,
            "min_height": null,
            "padding": null,
            "grid_auto_rows": null,
            "grid_gap": null,
            "max_width": null,
            "order": null,
            "_view_module_version": "1.2.0",
            "grid_template_areas": null,
            "object_position": null,
            "object_fit": null,
            "grid_auto_columns": null,
            "margin": null,
            "display": null,
            "left": null
          }
        },
        "99ea9c66e13f488b91a9d1660ecea23d": {
          "model_module": "@jupyter-widgets/controls",
          "model_name": "HBoxModel",
          "state": {
            "_view_name": "HBoxView",
            "_dom_classes": [],
            "_model_name": "HBoxModel",
            "_view_module": "@jupyter-widgets/controls",
            "_model_module_version": "1.5.0",
            "_view_count": null,
            "_view_module_version": "1.5.0",
            "box_style": "",
            "layout": "IPY_MODEL_b1b5914cbdfe4646afdd97ef7a3ba34a",
            "_model_module": "@jupyter-widgets/controls",
            "children": [
              "IPY_MODEL_2ec6f71acca64e919dc06dea2302440f",
              "IPY_MODEL_0f2f546ab47c4c3a85343cedcba1a62b"
            ]
          }
        },
        "b1b5914cbdfe4646afdd97ef7a3ba34a": {
          "model_module": "@jupyter-widgets/base",
          "model_name": "LayoutModel",
          "state": {
            "_view_name": "LayoutView",
            "grid_template_rows": null,
            "right": null,
            "justify_content": null,
            "_view_module": "@jupyter-widgets/base",
            "overflow": null,
            "_model_module_version": "1.2.0",
            "_view_count": null,
            "flex_flow": null,
            "width": null,
            "min_width": null,
            "border": null,
            "align_items": null,
            "bottom": null,
            "_model_module": "@jupyter-widgets/base",
            "top": null,
            "grid_column": null,
            "overflow_y": null,
            "overflow_x": null,
            "grid_auto_flow": null,
            "grid_area": null,
            "grid_template_columns": null,
            "flex": null,
            "_model_name": "LayoutModel",
            "justify_items": null,
            "grid_row": null,
            "max_height": null,
            "align_content": null,
            "visibility": null,
            "align_self": null,
            "height": null,
            "min_height": null,
            "padding": null,
            "grid_auto_rows": null,
            "grid_gap": null,
            "max_width": null,
            "order": null,
            "_view_module_version": "1.2.0",
            "grid_template_areas": null,
            "object_position": null,
            "object_fit": null,
            "grid_auto_columns": null,
            "margin": null,
            "display": null,
            "left": null
          }
        },
        "2ec6f71acca64e919dc06dea2302440f": {
          "model_module": "@jupyter-widgets/controls",
          "model_name": "FloatProgressModel",
          "state": {
            "_view_name": "ProgressView",
            "style": "IPY_MODEL_d06edfd9a10843c0903ee89ab8e91d6b",
            "_dom_classes": [],
            "description": "  0%",
            "_model_name": "FloatProgressModel",
            "bar_style": "info",
            "max": 1,
            "_view_module": "@jupyter-widgets/controls",
            "_model_module_version": "1.5.0",
            "value": 0,
            "_view_count": null,
            "_view_module_version": "1.5.0",
            "orientation": "horizontal",
            "min": 0,
            "description_tooltip": null,
            "_model_module": "@jupyter-widgets/controls",
            "layout": "IPY_MODEL_7bb4ff544369456d82e8226ef114379d"
          }
        },
        "0f2f546ab47c4c3a85343cedcba1a62b": {
          "model_module": "@jupyter-widgets/controls",
          "model_name": "HTMLModel",
          "state": {
            "_view_name": "HTMLView",
            "style": "IPY_MODEL_b69ead7fdbd04fa8b80386c1a58a7fb7",
            "_dom_classes": [],
            "description": "",
            "_model_name": "HTMLModel",
            "placeholder": "​",
            "_view_module": "@jupyter-widgets/controls",
            "_model_module_version": "1.5.0",
            "value": " 0/4542 [00:00&lt;?, ?it/s]",
            "_view_count": null,
            "_view_module_version": "1.5.0",
            "description_tooltip": null,
            "_model_module": "@jupyter-widgets/controls",
            "layout": "IPY_MODEL_07ed0f5f5e414475887b5827050f4d02"
          }
        },
        "d06edfd9a10843c0903ee89ab8e91d6b": {
          "model_module": "@jupyter-widgets/controls",
          "model_name": "ProgressStyleModel",
          "state": {
            "_view_name": "StyleView",
            "_model_name": "ProgressStyleModel",
            "description_width": "initial",
            "_view_module": "@jupyter-widgets/base",
            "_model_module_version": "1.5.0",
            "_view_count": null,
            "_view_module_version": "1.2.0",
            "bar_color": null,
            "_model_module": "@jupyter-widgets/controls"
          }
        },
        "7bb4ff544369456d82e8226ef114379d": {
          "model_module": "@jupyter-widgets/base",
          "model_name": "LayoutModel",
          "state": {
            "_view_name": "LayoutView",
            "grid_template_rows": null,
            "right": null,
            "justify_content": null,
            "_view_module": "@jupyter-widgets/base",
            "overflow": null,
            "_model_module_version": "1.2.0",
            "_view_count": null,
            "flex_flow": null,
            "width": null,
            "min_width": null,
            "border": null,
            "align_items": null,
            "bottom": null,
            "_model_module": "@jupyter-widgets/base",
            "top": null,
            "grid_column": null,
            "overflow_y": null,
            "overflow_x": null,
            "grid_auto_flow": null,
            "grid_area": null,
            "grid_template_columns": null,
            "flex": null,
            "_model_name": "LayoutModel",
            "justify_items": null,
            "grid_row": null,
            "max_height": null,
            "align_content": null,
            "visibility": null,
            "align_self": null,
            "height": null,
            "min_height": null,
            "padding": null,
            "grid_auto_rows": null,
            "grid_gap": null,
            "max_width": null,
            "order": null,
            "_view_module_version": "1.2.0",
            "grid_template_areas": null,
            "object_position": null,
            "object_fit": null,
            "grid_auto_columns": null,
            "margin": null,
            "display": null,
            "left": null
          }
        },
        "b69ead7fdbd04fa8b80386c1a58a7fb7": {
          "model_module": "@jupyter-widgets/controls",
          "model_name": "DescriptionStyleModel",
          "state": {
            "_view_name": "StyleView",
            "_model_name": "DescriptionStyleModel",
            "description_width": "",
            "_view_module": "@jupyter-widgets/base",
            "_model_module_version": "1.5.0",
            "_view_count": null,
            "_view_module_version": "1.2.0",
            "_model_module": "@jupyter-widgets/controls"
          }
        },
        "07ed0f5f5e414475887b5827050f4d02": {
          "model_module": "@jupyter-widgets/base",
          "model_name": "LayoutModel",
          "state": {
            "_view_name": "LayoutView",
            "grid_template_rows": null,
            "right": null,
            "justify_content": null,
            "_view_module": "@jupyter-widgets/base",
            "overflow": null,
            "_model_module_version": "1.2.0",
            "_view_count": null,
            "flex_flow": null,
            "width": null,
            "min_width": null,
            "border": null,
            "align_items": null,
            "bottom": null,
            "_model_module": "@jupyter-widgets/base",
            "top": null,
            "grid_column": null,
            "overflow_y": null,
            "overflow_x": null,
            "grid_auto_flow": null,
            "grid_area": null,
            "grid_template_columns": null,
            "flex": null,
            "_model_name": "LayoutModel",
            "justify_items": null,
            "grid_row": null,
            "max_height": null,
            "align_content": null,
            "visibility": null,
            "align_self": null,
            "height": null,
            "min_height": null,
            "padding": null,
            "grid_auto_rows": null,
            "grid_gap": null,
            "max_width": null,
            "order": null,
            "_view_module_version": "1.2.0",
            "grid_template_areas": null,
            "object_position": null,
            "object_fit": null,
            "grid_auto_columns": null,
            "margin": null,
            "display": null,
            "left": null
          }
        }
      }
    }
  },
  "cells": [
    {
      "cell_type": "markdown",
      "metadata": {
        "id": "view-in-github",
        "colab_type": "text"
      },
      "source": [
        "<a href=\"https://colab.research.google.com/github/dvsseed/PyTorch_CNN_MNIST/blob/master/PyTorch_MNIST_v6.ipynb\" target=\"_parent\"><img src=\"https://colab.research.google.com/assets/colab-badge.svg\" alt=\"Open In Colab\"/></a>"
      ]
    },
    {
      "cell_type": "markdown",
      "metadata": {
        "colab_type": "text",
        "id": "aI-i0nSsEY4m"
      },
      "source": [
        "# CNN—PyTorch—MNIST @Date: 2020-08-26\n",
        "##### *以下示範碼執行所需時間約104秒(GPU)、240秒(CPU)*\n",
        "---\n",
        "\n"
      ]
    },
    {
      "cell_type": "markdown",
      "metadata": {
        "id": "pwTLu5bBY_x-",
        "colab_type": "text"
      },
      "source": [
        "![Coding Style](https://4.bp.blogspot.com/-0pYHjZbv-48/Wkc5cPmrXDI/AAAAAAAAHkM/H2hnkggGlT83-B81ofzNZygpZNlqBcO9ACLcBGAs/s640/paradigm_shift.jpg)"
      ]
    },
    {
      "cell_type": "markdown",
      "metadata": {
        "id": "UIaEBSbgOk5e",
        "colab_type": "text"
      },
      "source": [
        "[**CNN--PyTorch Coding Step**]:\n",
        "1. 安裝套件\n",
        "2. 匯入套件\n",
        "3. 建立日誌檔\n",
        "4. 讀取參數序列檔YAML\n",
        "5. 使用GPU(加速)或CPU\n",
        "6. 圖片轉換Transform(預處理)\n",
        "7. 準備資料集Datasets(MNIST)：Train(42,000)、Validation(18,000)、Test(10,000)\n",
        "8. 建立CNN模型Model(3Conv+3FC)\n",
        "9. 設定CNN參數(Epochs, Learning Rate, Loss function, Optimizer)\n",
        "10. 訓練Training CNN模型(計算Accuracy, Loss並顯示結果): 使用checkpoint\n",
        "11. 驗證Validating CNN模型(計算Accuracy, Loss並顯示結果)\n",
        "12. 評估Evaluating CNN模型-驗證指標(Validation index): 混淆矩陣(Confusion Matrix)\n",
        "13. 調參優化\n",
        "14. 儲存模型相關數據: 使用checkpoint\n",
        "15. 讀取模型相關數據: 使用checkpoint\n",
        "16. 測試Testing CNN模型(計算Accuracy, Loss並顯示各類別的結果)\n",
        "17. 讀取日誌\n",
        "\n",
        "---\n",
        "\n",
        "[**問題**]:\n",
        "1. 如何使用自訂圖片集?!\n",
        "2. 如何更換模型Model?!\n",
        "3. 如何調參?!\n",
        "\n",
        "---\n"
      ]
    },
    {
      "cell_type": "markdown",
      "metadata": {
        "id": "i1raEPIAmd_q",
        "colab_type": "text"
      },
      "source": [
        "# **1. 安裝套件**\n",
        "[*目的*] 安裝[**Google Colab**]平台上沒有的套件\n",
        "\n",
        "[*背景知識*] 執行 pip install...請參攷 https://pip.pypa.io/en/stable/installing/ "
      ]
    },
    {
      "cell_type": "code",
      "metadata": {
        "id": "IS6ukSuHzHYB",
        "colab_type": "code",
        "colab": {
          "base_uri": "https://localhost:8080/",
          "height": 185
        },
        "outputId": "b58e5f13-c89a-4dce-eaf1-c720670eeaf1"
      },
      "source": [
        "!pip install torch_optimizer  # for AdaBound\n",
        "Checkpoint = 1  # if checkpoint or not"
      ],
      "execution_count": 1,
      "outputs": [
        {
          "output_type": "stream",
          "text": [
            "Collecting torch_optimizer\n",
            "\u001b[?25l  Downloading https://files.pythonhosted.org/packages/c9/48/f670cf4b47c315861d0547f0c2be579cd801304c86e55008492f1acebd01/torch_optimizer-0.0.1a15-py3-none-any.whl (41kB)\n",
            "\r\u001b[K     |███████▉                        | 10kB 18.4MB/s eta 0:00:01\r\u001b[K     |███████████████▊                | 20kB 1.6MB/s eta 0:00:01\r\u001b[K     |███████████████████████▌        | 30kB 2.1MB/s eta 0:00:01\r\u001b[K     |███████████████████████████████▍| 40kB 2.4MB/s eta 0:00:01\r\u001b[K     |████████████████████████████████| 51kB 1.7MB/s \n",
            "\u001b[?25hRequirement already satisfied: torch>=1.1.0 in /usr/local/lib/python3.6/dist-packages (from torch_optimizer) (1.6.0+cu101)\n",
            "Collecting pytorch-ranger>=0.1.1\n",
            "  Downloading https://files.pythonhosted.org/packages/0d/70/12256257d861bbc3e176130d25be1de085ce7a9e60594064888a950f2154/pytorch_ranger-0.1.1-py3-none-any.whl\n",
            "Requirement already satisfied: numpy in /usr/local/lib/python3.6/dist-packages (from torch>=1.1.0->torch_optimizer) (1.18.5)\n",
            "Requirement already satisfied: future in /usr/local/lib/python3.6/dist-packages (from torch>=1.1.0->torch_optimizer) (0.16.0)\n",
            "Installing collected packages: pytorch-ranger, torch-optimizer\n",
            "Successfully installed pytorch-ranger-0.1.1 torch-optimizer-0.0.1a15\n"
          ],
          "name": "stdout"
        }
      ]
    },
    {
      "cell_type": "markdown",
      "metadata": {
        "id": "wwufO5vTEZnU",
        "colab_type": "text"
      },
      "source": [
        "![Packages](https://manalelaidouni.github.io/assets/img/pexels/Pytorch-package-hierarchy.jpg)\n",
        "\n",
        "---\n",
        "\n"
      ]
    },
    {
      "cell_type": "markdown",
      "metadata": {
        "id": "xgC-815gprHN",
        "colab_type": "text"
      },
      "source": [
        "# **2. 匯入套件**\n",
        "[*目的*] 備妥相關執行套件"
      ]
    },
    {
      "cell_type": "code",
      "metadata": {
        "colab_type": "code",
        "id": "n55IKIvC55w5",
        "colab": {}
      },
      "source": [
        "# Import Libraries\n",
        "import torch\n",
        "import torch.nn as nn\n",
        "import torch.nn.functional as F\n",
        "# import torch.optim as optim\n",
        "from torch.optim import lr_scheduler\n",
        "from torch.optim.lr_scheduler import ReduceLROnPlateau\n",
        "import torch_optimizer as optim  # for AdaBound\n",
        "import torch.utils.data as dset\n",
        "from torchvision import datasets, transforms, utils\n",
        "from torchsummary import summary\n",
        "import matplotlib.pyplot as plt\n",
        "import numpy as np\n",
        "from sklearn.metrics import classification_report, confusion_matrix, plot_confusion_matrix\n",
        "import time\n",
        "from datetime import datetime\n",
        "import os\n",
        "import itertools\n",
        "import argparse\n",
        "import yaml\n",
        "import sys\n",
        "import logging\n",
        "from pytz import timezone\n",
        "from termcolor import colored"
      ],
      "execution_count": 2,
      "outputs": []
    },
    {
      "cell_type": "markdown",
      "metadata": {
        "id": "McIl1Xibz6fV",
        "colab_type": "text"
      },
      "source": [
        "![logging](https://files.realpython.com/media/Python-Logging-A-Stroll-Through-The-Source-Code_Watermarked.efa1d31c4fe4.jpg)"
      ]
    },
    {
      "cell_type": "markdown",
      "metadata": {
        "id": "0h-IObNsn5yf",
        "colab_type": "text"
      },
      "source": [
        "# **3. 建立日誌檔**\n",
        "[*目的*] 使用日誌檔留下執行時間、狀態、訊息...等，以利後續維護、Debug\n",
        "\n",
        "[*背景知識*] logging — Logging facility for Python, 請參攷 https://docs.python.org/3/library/logging.html\n"
      ]
    },
    {
      "cell_type": "code",
      "metadata": {
        "id": "c4qGHKsfclLA",
        "colab_type": "code",
        "colab": {}
      },
      "source": [
        "# 建立log記錄檔\n",
        "def timetz(*args):\n",
        "  return datetime.now(tz).timetuple()\n",
        "\n",
        "\n",
        "logging.basicConfig(level=logging.INFO, format='%(asctime)s %(levelname)s %(message)s', datefmt='%Y-%m-%d %H:%M', handlers=[logging.FileHandler('cnn.log', 'w', 'utf-8'), ])\n",
        "tz = timezone('Asia/Taipei')  # UTC\n",
        "logging.Formatter.converter = timetz  # 調整時區\n",
        "\n",
        "# logging.debug('Hello debug!')\n",
        "# logging.info('Hello info!')\n",
        "# logging.warning('Hello warning!')\n",
        "# logging.error('Hello error!')\n",
        "# logging.critical('Hello critical!')"
      ],
      "execution_count": 3,
      "outputs": []
    },
    {
      "cell_type": "markdown",
      "metadata": {
        "id": "TNyPGhAVYr5j",
        "colab_type": "text"
      },
      "source": [
        "![YAML](https://blog.codemagic.io/uploads/Codemagic-io_Blog_Yaml-10-tips.2367b7a53ec8bb46bcea06ab69b0d6a4f9c6b075c3b7a33918faa4c470339549.png)"
      ]
    },
    {
      "cell_type": "markdown",
      "metadata": {
        "id": "F2SwD-dKYd-g",
        "colab_type": "text"
      },
      "source": [
        "# **4. 讀取參數序列檔YAML**\n",
        "[*目的*] 使用YAML Ain't a Markup Language可讀性高，可表達資料序列的格式來儲存環境所需的參數設定值\n",
        "\n",
        "[*背景知識*] PyYAML Documentation, 請參攷 https://pyyaml.org/wiki/PyYAMLDocumentation"
      ]
    },
    {
      "cell_type": "code",
      "metadata": {
        "id": "mQXdyNyRqqCJ",
        "colab_type": "code",
        "colab": {}
      },
      "source": [
        "# 參數資料序列化, write Python data into a YAML file\n",
        "config_exp = {'BatchSize': 16,  # 批量大小\n",
        "        'NumClasses': 10,  # 類別\n",
        "        'Epoch': 3,  # 訓練的迭代次數\n",
        "        'LearningRate': 0.001,  # Learning rate，反向傳播的學習率\n",
        "        'PATHcp': './checkpoint.pth',  # checkpoint 暫存檔\n",
        "        'PATH': './model.pth',  # 模型參數儲存檔\n",
        "        'Channels': 1,  # MNIST圖片: C\n",
        "        'Height': 28,  # MNIST圖片: H\n",
        "        'Width': 28  # MNIST圖片: W\n",
        "        }\n",
        "\n",
        "PATHyml = 'cnn_mnist.yaml'\n",
        "with open(PATHyml, 'w') as f:\n",
        "  data = yaml.dump(config_exp, f)"
      ],
      "execution_count": 4,
      "outputs": []
    },
    {
      "cell_type": "code",
      "metadata": {
        "id": "aW3zcODuxUBe",
        "colab_type": "code",
        "colab": {
          "base_uri": "https://localhost:8080/",
          "height": 34
        },
        "outputId": "183e3d2a-b5c2-4570-a91f-beccc23fcf91"
      },
      "source": [
        "# 讀取yaml/yml檔, read a YAML file\n",
        "with open(PATHyml) as f:\n",
        "  p = yaml.safe_load(f)\n",
        "  print(p)"
      ],
      "execution_count": 5,
      "outputs": [
        {
          "output_type": "stream",
          "text": [
            "{'BatchSize': 16, 'Channels': 1, 'Epoch': 3, 'Height': 28, 'LearningRate': 0.001, 'NumClasses': 10, 'PATH': './model.pth', 'PATHcp': './checkpoint.pth', 'Width': 28}\n"
          ],
          "name": "stdout"
        }
      ]
    },
    {
      "cell_type": "markdown",
      "metadata": {
        "id": "cEnbeMu1FSti",
        "colab_type": "text"
      },
      "source": [
        "\n",
        "\n",
        "---\n",
        "\n",
        "\n",
        "![PyTorch](https://miro.medium.com/max/864/0*dp6NCTWXmbelZwBd)"
      ]
    },
    {
      "cell_type": "code",
      "metadata": {
        "id": "tlwz9xQ6SKuB",
        "colab_type": "code",
        "colab": {
          "base_uri": "https://localhost:8080/",
          "height": 67
        },
        "outputId": "bdcc0ecd-72d6-4ac0-c326-b8112e3a688e"
      },
      "source": [
        "model_start = time.time()  # start timer\n",
        "# 列印版本\n",
        "print(colored('PyTorch version:', 'blue'), torch.__version__)  # PyTorch version\n",
        "print(colored('CUDA version:', 'blue'), torch.version.cuda)  # Corresponding CUDA version\n",
        "print(colored('cuDNN version:', 'blue'), torch.backends.cudnn.version())  # Corresponding cuDNN version"
      ],
      "execution_count": 6,
      "outputs": [
        {
          "output_type": "stream",
          "text": [
            "\u001b[34mPyTorch version:\u001b[0m 1.6.0+cu101\n",
            "\u001b[34mCUDA version:\u001b[0m 10.1\n",
            "\u001b[34mcuDNN version:\u001b[0m 7603\n"
          ],
          "name": "stdout"
        }
      ]
    },
    {
      "cell_type": "markdown",
      "metadata": {
        "id": "Z_JkPhuqFdZ4",
        "colab_type": "text"
      },
      "source": [
        "\n",
        "\n",
        "---\n",
        "\n",
        "\n",
        "![CUDA](https://upload.wikimedia.org/wikipedia/commons/5/59/CUDA.png)"
      ]
    },
    {
      "cell_type": "markdown",
      "metadata": {
        "id": "jfKm0MvNqoAP",
        "colab_type": "text"
      },
      "source": [
        "# **5. 使用GPU(加速)或CPU**\n",
        "[*目的*] 利用GPU運算資源來節省模型訓練時間"
      ]
    },
    {
      "cell_type": "code",
      "metadata": {
        "id": "484k9_3E8XQn",
        "colab_type": "code",
        "colab": {
          "base_uri": "https://localhost:8080/",
          "height": 34
        },
        "outputId": "2f85cd9f-04f1-43ca-dacb-75af963b8914"
      },
      "source": [
        "# How many GPUs are there?\n",
        "if torch.cuda.is_available(): print(colored('GPUs:', 'blue'), torch.cuda.device_count())\n",
        "\n",
        "# Which GPU Is The Current GPU?\n",
        "if torch.cuda.is_available(): print(colored('GPU device:', 'blue'), torch.cuda.current_device())\n",
        "\n",
        "# Get the name of the current GPU\n",
        "if torch.cuda.is_available(): print(colored('GPU name:', 'blue'), torch.cuda.get_device_name(torch.cuda.current_device()))\n",
        "\n",
        "# 確認 GPU 是否可用\n",
        "device = 'cuda:0' if torch.cuda.is_available() else 'cpu'\n",
        "print(colored('GPU State:', 'blue'), device)"
      ],
      "execution_count": 7,
      "outputs": [
        {
          "output_type": "stream",
          "text": [
            "\u001b[34mGPU State:\u001b[0m cpu\n"
          ],
          "name": "stdout"
        }
      ]
    },
    {
      "cell_type": "markdown",
      "metadata": {
        "id": "m2jDmBtHFzzO",
        "colab_type": "text"
      },
      "source": [
        "\n",
        "\n",
        "---\n",
        "\n",
        "\n",
        "![Image transform](https://www.cse.iitb.ac.in/~vkaushal/talk/auto-augment/featured_huc5f6bfa335655300e966e45366a24701_359424_720x0_resize_lanczos_2.png)"
      ]
    },
    {
      "cell_type": "markdown",
      "metadata": {
        "id": "Vf0EKxPkq07T",
        "colab_type": "text"
      },
      "source": [
        "# **6. 圖片轉換Transform(預處理)**\n",
        "[*目的*] 處理圖片及轉換格式, 以便數據增強\n",
        "\n",
        "[*背景知識*] TORCHVISION.TRANSFORMS, 請參攷 https://pytorch.org/docs/stable/torchvision/transforms.html"
      ]
    },
    {
      "cell_type": "code",
      "metadata": {
        "id": "Agey2Hm48tY3",
        "colab_type": "code",
        "colab": {}
      },
      "source": [
        "# Image Transform\n",
        "Transform = transforms.Compose(\n",
        "  [\n",
        "   transforms.ToTensor(),  # 轉成 Tensor 型態, range[0, 255] -> [0.0, 1.0]\n",
        "   transforms.Normalize(mean=(0.5,), std=(0.5,)),  # 正規化, range[0, 255] -> [-1.0, 1.0]\n",
        "  ]\n",
        ")"
      ],
      "execution_count": 8,
      "outputs": []
    },
    {
      "cell_type": "markdown",
      "metadata": {
        "id": "UljbzXomGYTq",
        "colab_type": "text"
      },
      "source": [
        "\n",
        "\n",
        "---\n",
        "\n",
        "\n",
        "![MNIST](https://jason-chen-1992.weebly.com/uploads/1/0/8/5/108557741/example-images-from-the-mnist-dataset_orig.png)"
      ]
    },
    {
      "cell_type": "markdown",
      "metadata": {
        "id": "fLbq8-a0q7jc",
        "colab_type": "text"
      },
      "source": [
        "# **7. 準備資料集Datasets(MNIST)**：Train(42,000)、Validation(18,000)、Test(10,000)\n",
        "[*目的*] 規劃訓練、驗證、測試所需的資料集, 並依照batch size打包, 以完成圖像及標籤資料的讀取\n",
        "\n",
        "[*背景知識*] TORCHVISION.DATASETS, 請參攷 https://pytorch.org/docs/stable/torchvision/datasets.html"
      ]
    },
    {
      "cell_type": "code",
      "metadata": {
        "id": "QE5bIq2M9eqd",
        "colab_type": "code",
        "colab": {
          "base_uri": "https://localhost:8080/",
          "height": 400,
          "referenced_widgets": [
            "212c4ced32ae4ce48e8eb8658d3a99a0",
            "6e8a0256d4e44674b9d2f89a61582d38",
            "dd8a8a1535ae4b25b8155f182bdd00ae",
            "a15c2feb140f4815b074596d64bc094d",
            "eb7c78934f214e4b98536b976319920f",
            "001247ee13ac43dcab7424be6ac614d7",
            "b41bd0dc39fb427ca8c60de751c58e70",
            "b1be582ae1bd4aa39a265567051ce639",
            "d757a9e6ee894d2c9bcca71303431ca6",
            "fdfeec7d875e4f2b90ae7cb5e9556e34",
            "c42a68f185fc451b9e233e75cae960b0",
            "75601e7343ef4af394f207e384ce605f",
            "14960addd36c4676a46ce9f4e94de674",
            "fd4a8599c2e44861a57492d70fe4dae4",
            "015a21e39e5b44809d528810f468ac81",
            "42e16b70cadf459f951103f5036797f6",
            "15850a9d9a9c4535a60de24a6dc3da97",
            "c2ad52987b1a4ccfa1cc6e152847dc25",
            "058697b9734f4fa0b3989f2d9d77a1e3",
            "9d207728c04b4de2b015d81eb083f1a2",
            "2d60b9f4d74c49e69be3b488cad11252",
            "83b0279ce88544dda880a1c20d63965d",
            "12cb181fa530487889f872c023d970ec",
            "b12a452fd3604fe4954ac7d99855d8e2",
            "99ea9c66e13f488b91a9d1660ecea23d",
            "b1b5914cbdfe4646afdd97ef7a3ba34a",
            "2ec6f71acca64e919dc06dea2302440f",
            "0f2f546ab47c4c3a85343cedcba1a62b",
            "d06edfd9a10843c0903ee89ab8e91d6b",
            "7bb4ff544369456d82e8226ef114379d",
            "b69ead7fdbd04fa8b80386c1a58a7fb7",
            "07ed0f5f5e414475887b5827050f4d02"
          ]
        },
        "outputId": "f709192a-4d14-4c0e-9849-75261bb6942a"
      },
      "source": [
        "# Dataset\n",
        "BatchSize = p['BatchSize']\n",
        "\n",
        "TrainSet0 = datasets.MNIST(root='MNIST', download=True, train=True, transform=Transform)\n",
        "TestSet = datasets.MNIST(root='MNIST', download=True, train=False, transform=Transform)\n",
        "\n",
        "# 切分70%為訓練集、30%為驗證集\n",
        "train_size = int(0.7 * len(TrainSet0))\n",
        "valid_size = len(TrainSet0) - train_size\n",
        "TrainSet, ValidSet = torch.utils.data.random_split(TrainSet0, [train_size, valid_size])\n",
        "\n",
        "TrainLoader = dset.DataLoader(TrainSet, batch_size=BatchSize, shuffle=True)  # 打亂數據則將shuffle=True\n",
        "ValidLoader = dset.DataLoader(ValidSet, batch_size=BatchSize, shuffle=True)\n",
        "# 測試集\n",
        "TestLoader = dset.DataLoader(TestSet, batch_size=BatchSize, shuffle=False)\n",
        "Test10kLoader = dset.DataLoader(TestSet, batch_size=len(TestSet), shuffle=False)"
      ],
      "execution_count": 9,
      "outputs": [
        {
          "output_type": "stream",
          "text": [
            "Downloading http://yann.lecun.com/exdb/mnist/train-images-idx3-ubyte.gz to MNIST/MNIST/raw/train-images-idx3-ubyte.gz\n"
          ],
          "name": "stdout"
        },
        {
          "output_type": "display_data",
          "data": {
            "application/vnd.jupyter.widget-view+json": {
              "model_id": "212c4ced32ae4ce48e8eb8658d3a99a0",
              "version_minor": 0,
              "version_major": 2
            },
            "text/plain": [
              "HBox(children=(FloatProgress(value=1.0, bar_style='info', max=1.0), HTML(value='')))"
            ]
          },
          "metadata": {
            "tags": []
          }
        },
        {
          "output_type": "stream",
          "text": [
            "Extracting MNIST/MNIST/raw/train-images-idx3-ubyte.gz to MNIST/MNIST/raw\n",
            "Downloading http://yann.lecun.com/exdb/mnist/train-labels-idx1-ubyte.gz to MNIST/MNIST/raw/train-labels-idx1-ubyte.gz\n"
          ],
          "name": "stdout"
        },
        {
          "output_type": "display_data",
          "data": {
            "application/vnd.jupyter.widget-view+json": {
              "model_id": "d757a9e6ee894d2c9bcca71303431ca6",
              "version_minor": 0,
              "version_major": 2
            },
            "text/plain": [
              "HBox(children=(FloatProgress(value=1.0, bar_style='info', max=1.0), HTML(value='')))"
            ]
          },
          "metadata": {
            "tags": []
          }
        },
        {
          "output_type": "stream",
          "text": [
            "Extracting MNIST/MNIST/raw/train-labels-idx1-ubyte.gz to MNIST/MNIST/raw\n",
            "Downloading http://yann.lecun.com/exdb/mnist/t10k-images-idx3-ubyte.gz to MNIST/MNIST/raw/t10k-images-idx3-ubyte.gz\n"
          ],
          "name": "stdout"
        },
        {
          "output_type": "display_data",
          "data": {
            "application/vnd.jupyter.widget-view+json": {
              "model_id": "15850a9d9a9c4535a60de24a6dc3da97",
              "version_minor": 0,
              "version_major": 2
            },
            "text/plain": [
              "HBox(children=(FloatProgress(value=1.0, bar_style='info', max=1.0), HTML(value='')))"
            ]
          },
          "metadata": {
            "tags": []
          }
        },
        {
          "output_type": "stream",
          "text": [
            "Extracting MNIST/MNIST/raw/t10k-images-idx3-ubyte.gz to MNIST/MNIST/raw\n",
            "Downloading http://yann.lecun.com/exdb/mnist/t10k-labels-idx1-ubyte.gz to MNIST/MNIST/raw/t10k-labels-idx1-ubyte.gz\n",
            "\n",
            "\n"
          ],
          "name": "stdout"
        },
        {
          "output_type": "display_data",
          "data": {
            "application/vnd.jupyter.widget-view+json": {
              "model_id": "99ea9c66e13f488b91a9d1660ecea23d",
              "version_minor": 0,
              "version_major": 2
            },
            "text/plain": [
              "HBox(children=(FloatProgress(value=1.0, bar_style='info', max=1.0), HTML(value='')))"
            ]
          },
          "metadata": {
            "tags": []
          }
        },
        {
          "output_type": "stream",
          "text": [
            "Extracting MNIST/MNIST/raw/t10k-labels-idx1-ubyte.gz to MNIST/MNIST/raw\n",
            "Processing...\n",
            "Done!\n"
          ],
          "name": "stdout"
        },
        {
          "output_type": "stream",
          "text": [
            "/usr/local/lib/python3.6/dist-packages/torchvision/datasets/mnist.py:469: UserWarning: The given NumPy array is not writeable, and PyTorch does not support non-writeable tensors. This means you can write to the underlying (supposedly non-writeable) NumPy array using the tensor. You may want to copy the array to protect its data or make it writeable before converting it to a tensor. This type of warning will be suppressed for the rest of this program. (Triggered internally at  /pytorch/torch/csrc/utils/tensor_numpy.cpp:141.)\n",
            "  return torch.from_numpy(parsed.astype(m[2], copy=False)).view(*s)\n"
          ],
          "name": "stderr"
        }
      ]
    },
    {
      "cell_type": "markdown",
      "metadata": {
        "id": "5Ib3L_vNHLEM",
        "colab_type": "text"
      },
      "source": [
        "\n",
        "\n",
        "---\n",
        "\n",
        "\n",
        "![CNN](https://jason-chen-1992.weebly.com/uploads/1/0/8/5/108557741/dnn-for-mnist_1_orig.png)"
      ]
    },
    {
      "cell_type": "markdown",
      "metadata": {
        "id": "bcnB4oMarLnN",
        "colab_type": "text"
      },
      "source": [
        "# **8. 建立CNN模型Model**(3Conv+3FC)\n",
        "[*目的*] 設計神經網路模型(基於autograd), 定義網路各層維度及結構\n",
        "\n",
        "[*背景知識*] MODULE, 請參攷 https://pytorch.org/docs/stable/generated/torch.nn.Module.html"
      ]
    },
    {
      "cell_type": "code",
      "metadata": {
        "colab_type": "code",
        "id": "A9xVvsbi_OOW",
        "colab": {
          "base_uri": "https://localhost:8080/",
          "height": 420
        },
        "outputId": "0a174c89-911c-45c2-efa1-7015da454058"
      },
      "source": [
        "# Define model\n",
        "class CNNModelClass(nn.Module):  # 使用 torch.nn 來建構神經網路\n",
        "  def __init__(self, NumClasses):\n",
        "    super(CNNModelClass, self).__init__()\n",
        "    # Convolution 1, input_shape=(1,28,28)\n",
        "    self.features = nn.Sequential(\n",
        "      nn.Conv2d(in_channels=1,  # input height\n",
        "           out_channels=16,  # n_filters\n",
        "           kernel_size=3,   # filter size\n",
        "           stride=1,     # filter movement/step\n",
        "           padding=1     # if want same width and length of this image after con2d, padding=(kernel_size-1)/2 if stride=1\n",
        "      ),\n",
        "      nn.BatchNorm2d(num_features=16),\n",
        "      nn.ReLU(),\n",
        "      nn.MaxPool2d(kernel_size=2, stride=2, padding=0),  # output_shape=(16,14,14)\n",
        "      nn.Conv2d(in_channels=16, out_channels=32, kernel_size=3, stride=1, padding=1),  # input_shape=(16,14,14)\n",
        "      nn.BatchNorm2d(num_features=32),\n",
        "      nn.ReLU(),\n",
        "      nn.MaxPool2d(kernel_size=2, stride=2, padding=0),  # output_shape=(32,7,7)\n",
        "      nn.Conv2d(in_channels=32, out_channels=64, kernel_size=3, stride=1, padding=1),  # input_shape=(32,7,7)\n",
        "      nn.BatchNorm2d(num_features=64),\n",
        "      nn.ReLU(),\n",
        "      nn.MaxPool2d(kernel_size=2, stride=2, padding=0)  # output_shape=(64,4,4)\n",
        "    )\n",
        "    self.avgpool = nn.AdaptiveAvgPool2d((4, 4))\n",
        "    # self.drop_out = nn.Dropout2d(p=0.5)\n",
        "    # self.fc_drop = nn.Dropout2d(p=0.5)\n",
        "    self.fc = nn.Sequential(\n",
        "      nn.Linear(in_features=64 * 4 * 4, out_features=128),\n",
        "      nn.ReLU(),\n",
        "      nn.Linear(in_features=128, out_features=64),\n",
        "      nn.ReLU(),\n",
        "      nn.Linear(in_features=64, out_features=NumClasses)\n",
        "    )\n",
        "\n",
        "\n",
        "  def forward(self, x):\n",
        "    x = self.features(x)\n",
        "    x = self.avgpool(x)\n",
        "    x = torch.flatten(x, 1)\n",
        "    x = x.view(-1, 64 * 4 * 4)\n",
        "    # x = self.drop_out(x)\n",
        "    x = self.fc(x)\n",
        "    # x = self.fc_drop(x)\n",
        "    return x\n",
        "\n",
        "\n",
        "  def num_flat_features(self, x):\n",
        "    size = x.size()[1:]\n",
        "    num_features = 1\n",
        "    for s in size:\n",
        "        num_features *= s\n",
        "    return num_features\n",
        "\n",
        "\n",
        "NumClasses = p['NumClasses']\n",
        "# Initialize model\n",
        "model = CNNModelClass(NumClasses).to(device)\n",
        "print(model)  # 列印結構"
      ],
      "execution_count": 10,
      "outputs": [
        {
          "output_type": "stream",
          "text": [
            "CNNModelClass(\n",
            "  (features): Sequential(\n",
            "    (0): Conv2d(1, 16, kernel_size=(3, 3), stride=(1, 1), padding=(1, 1))\n",
            "    (1): BatchNorm2d(16, eps=1e-05, momentum=0.1, affine=True, track_running_stats=True)\n",
            "    (2): ReLU()\n",
            "    (3): MaxPool2d(kernel_size=2, stride=2, padding=0, dilation=1, ceil_mode=False)\n",
            "    (4): Conv2d(16, 32, kernel_size=(3, 3), stride=(1, 1), padding=(1, 1))\n",
            "    (5): BatchNorm2d(32, eps=1e-05, momentum=0.1, affine=True, track_running_stats=True)\n",
            "    (6): ReLU()\n",
            "    (7): MaxPool2d(kernel_size=2, stride=2, padding=0, dilation=1, ceil_mode=False)\n",
            "    (8): Conv2d(32, 64, kernel_size=(3, 3), stride=(1, 1), padding=(1, 1))\n",
            "    (9): BatchNorm2d(64, eps=1e-05, momentum=0.1, affine=True, track_running_stats=True)\n",
            "    (10): ReLU()\n",
            "    (11): MaxPool2d(kernel_size=2, stride=2, padding=0, dilation=1, ceil_mode=False)\n",
            "  )\n",
            "  (avgpool): AdaptiveAvgPool2d(output_size=(4, 4))\n",
            "  (fc): Sequential(\n",
            "    (0): Linear(in_features=1024, out_features=128, bias=True)\n",
            "    (1): ReLU()\n",
            "    (2): Linear(in_features=128, out_features=64, bias=True)\n",
            "    (3): ReLU()\n",
            "    (4): Linear(in_features=64, out_features=10, bias=True)\n",
            "  )\n",
            ")\n"
          ],
          "name": "stdout"
        }
      ]
    },
    {
      "cell_type": "markdown",
      "metadata": {
        "id": "Fc_0TRv5Knd5",
        "colab_type": "text"
      },
      "source": [
        "\n",
        "\n",
        "---\n",
        "\n",
        "\n",
        "**Dimension Calculations**\n",
        "\n",
        "* $O=\\frac{W−K+2\\times P}{S}+1$\n",
        "> * O: output height/length\n",
        "> * W: input height/length\n",
        "> * K: filter size(kernel size)\n",
        "> * P: padding, $P=\\frac{K−1}{2}$\n",
        "> * S: stride"
      ]
    },
    {
      "cell_type": "markdown",
      "metadata": {
        "id": "5PqVaSBhI5mn",
        "colab_type": "text"
      },
      "source": [
        "![Model](https://www.deeplearningwizard.com/deep_learning/practical_pytorch/images/cnn10-2n.png)"
      ]
    },
    {
      "cell_type": "code",
      "metadata": {
        "id": "6y7CxvH9VXuz",
        "colab_type": "code",
        "colab": {
          "base_uri": "https://localhost:8080/",
          "height": 538
        },
        "outputId": "73d4b5c0-c1dd-4478-d2f4-3500c36be90b"
      },
      "source": [
        "# 查看模型每層輸出細節, MNIST=(C,H,W)=(1,28,28)\n",
        "Channels = p['Channels']\n",
        "Height = p['Height']\n",
        "Width = p['Width']\n",
        "summary(model, input_size=(Channels, Height, Width), batch_size=BatchSize)"
      ],
      "execution_count": 11,
      "outputs": [
        {
          "output_type": "stream",
          "text": [
            "----------------------------------------------------------------\n",
            "        Layer (type)               Output Shape         Param #\n",
            "================================================================\n",
            "            Conv2d-1           [16, 16, 28, 28]             160\n",
            "       BatchNorm2d-2           [16, 16, 28, 28]              32\n",
            "              ReLU-3           [16, 16, 28, 28]               0\n",
            "         MaxPool2d-4           [16, 16, 14, 14]               0\n",
            "            Conv2d-5           [16, 32, 14, 14]           4,640\n",
            "       BatchNorm2d-6           [16, 32, 14, 14]              64\n",
            "              ReLU-7           [16, 32, 14, 14]               0\n",
            "         MaxPool2d-8             [16, 32, 7, 7]               0\n",
            "            Conv2d-9             [16, 64, 7, 7]          18,496\n",
            "      BatchNorm2d-10             [16, 64, 7, 7]             128\n",
            "             ReLU-11             [16, 64, 7, 7]               0\n",
            "        MaxPool2d-12             [16, 64, 3, 3]               0\n",
            "AdaptiveAvgPool2d-13             [16, 64, 4, 4]               0\n",
            "           Linear-14                  [16, 128]         131,200\n",
            "             ReLU-15                  [16, 128]               0\n",
            "           Linear-16                   [16, 64]           8,256\n",
            "             ReLU-17                   [16, 64]               0\n",
            "           Linear-18                   [16, 10]             650\n",
            "================================================================\n",
            "Total params: 163,626\n",
            "Trainable params: 163,626\n",
            "Non-trainable params: 0\n",
            "----------------------------------------------------------------\n",
            "Input size (MB): 0.05\n",
            "Forward/backward pass size (MB): 8.86\n",
            "Params size (MB): 0.62\n",
            "Estimated Total Size (MB): 9.53\n",
            "----------------------------------------------------------------\n"
          ],
          "name": "stdout"
        }
      ]
    },
    {
      "cell_type": "code",
      "metadata": {
        "id": "hYHvZOAlSl8U",
        "colab_type": "code",
        "colab": {
          "base_uri": "https://localhost:8080/",
          "height": 67
        },
        "outputId": "3456c89d-3f44-47fa-f2c1-ada2fd4c2a0d"
      },
      "source": [
        "# Counting number parameters in a CNN model\n",
        "def count_model_layers(model):\n",
        "  conv = 0\n",
        "  fc = 0\n",
        "  for layer in model.modules():\n",
        "    if isinstance(layer, nn.Conv2d):\n",
        "      conv += 1\n",
        "    elif isinstance(layer, nn.Linear):\n",
        "      fc += 1\n",
        "\n",
        "  return conv, fc\n",
        "\n",
        "\n",
        "num_parameters = sum(torch.numel(parameter) for parameter in model.parameters())\n",
        "print(colored('Model Params: ', 'blue') + '%.2f M' % (num_parameters / 1e6))\n",
        "print(colored('Model: Convolutional layer: ', 'blue') + '%s, Fully connected layer: %s' % count_model_layers(model))\n",
        "\n",
        "params = list(model.parameters())\n",
        "print(len(params))  # 列印層數\n",
        "\n",
        "# for name, parameters in model.named_parameters():\n",
        "  # print(name, ':', parameters.size())"
      ],
      "execution_count": 12,
      "outputs": [
        {
          "output_type": "stream",
          "text": [
            "\u001b[34mModel Params: \u001b[0m0.16 M\n",
            "\u001b[34mModel: Convolutional layer: \u001b[0m3, Fully connected layer: 3\n",
            "18\n"
          ],
          "name": "stdout"
        }
      ]
    },
    {
      "cell_type": "markdown",
      "metadata": {
        "id": "qCVL-sDUOTNl",
        "colab_type": "text"
      },
      "source": [
        "\n",
        "\n",
        "---\n",
        "\n",
        "\n",
        "![AdaBound](https://camo.githubusercontent.com/6e32dcc3e881e2c28786f8b628dcfa2b8d27317f/68747470733a2f2f7777772e6c756f6c632e636f6d2f6173736574732f72657365617263682f616461626f756e642f616461626f756e642d62616e6e65722e706e67)"
      ]
    },
    {
      "cell_type": "markdown",
      "metadata": {
        "id": "YzYeB-9arYi5",
        "colab_type": "text"
      },
      "source": [
        "# **9. 設定CNN參數**(Epoch, Learning Rate, Loss function, Optimizer)\n",
        "[*目的*] 設定CNN相關參數, 以供模型所需\n",
        "\n",
        "[*背景知識*] optim.AdaBound, 請參攷 https://creme-ml.github.io/api-reference/optim/AdaBound/"
      ]
    },
    {
      "cell_type": "code",
      "metadata": {
        "id": "lPVuAfm6_4Kd",
        "colab_type": "code",
        "colab": {}
      },
      "source": [
        "# Parameters\n",
        "Epoch = p['Epoch']  # 訓練的迭代次數\n",
        "LearningRate = p['LearningRate']  # Learning rate，反向傳播的學習率\n",
        "Criterion = nn.CrossEntropyLoss()  # 損失函數(Loss function)\n",
        "\n",
        "# Initialize optimizer\n",
        "# Optimizer = optim.Adam(model.parameters(), lr=LearningRate, weight_decay=0.01)  # 優化器optimize all cnn parameters\n",
        "Optimizer = optim.AdaBound(model.parameters(), lr=LearningRate, final_lr=0.1)\n",
        "# Optimizer = optim.AdaBound(model.parameters(), lr=LearningRate, betas=(0.9, 0.999), final_lr=0.1, gamma=1e-3, eps=1e-8, weight_decay=0, amsbound=False)\n",
        "\n",
        "# change learning rate schedule\n",
        "# Scheduler = lr_scheduler.StepLR(Optimizer, 10, 0.001)  # for each 10 epoch, learning rate x 0.1\n",
        "# 優化器管理學習率, 當連續200次没有減少loss時就減少學習率(乘以0.7)\n",
        "# Scheduler = ReduceLROnPlateau(Optimizer, mode='min', patience=200, factor=0.7)"
      ],
      "execution_count": 13,
      "outputs": []
    },
    {
      "cell_type": "code",
      "metadata": {
        "id": "M_kmxs_V3qZd",
        "colab_type": "code",
        "colab": {
          "base_uri": "https://localhost:8080/",
          "height": 558
        },
        "outputId": "94b141fa-8fda-4746-9a75-25b6cfc3bf81"
      },
      "source": [
        "# Print model's state_dict\n",
        "print(colored('Model\\'s state_dict:', 'blue'))\n",
        "for param_tensor in model.state_dict():\n",
        "  print(param_tensor, '\\t', model.state_dict()[param_tensor].size())\n",
        "\n",
        "# Print optimizer's state_dict\n",
        "print(colored('Optimizer\\'s state_dict:', 'blue'))\n",
        "for var_name in Optimizer.state_dict():\n",
        "  print(var_name, '\\t', Optimizer.state_dict()[var_name])"
      ],
      "execution_count": 14,
      "outputs": [
        {
          "output_type": "stream",
          "text": [
            "\u001b[34mModel's state_dict:\u001b[0m\n",
            "features.0.weight \t torch.Size([16, 1, 3, 3])\n",
            "features.0.bias \t torch.Size([16])\n",
            "features.1.weight \t torch.Size([16])\n",
            "features.1.bias \t torch.Size([16])\n",
            "features.1.running_mean \t torch.Size([16])\n",
            "features.1.running_var \t torch.Size([16])\n",
            "features.1.num_batches_tracked \t torch.Size([])\n",
            "features.4.weight \t torch.Size([32, 16, 3, 3])\n",
            "features.4.bias \t torch.Size([32])\n",
            "features.5.weight \t torch.Size([32])\n",
            "features.5.bias \t torch.Size([32])\n",
            "features.5.running_mean \t torch.Size([32])\n",
            "features.5.running_var \t torch.Size([32])\n",
            "features.5.num_batches_tracked \t torch.Size([])\n",
            "features.8.weight \t torch.Size([64, 32, 3, 3])\n",
            "features.8.bias \t torch.Size([64])\n",
            "features.9.weight \t torch.Size([64])\n",
            "features.9.bias \t torch.Size([64])\n",
            "features.9.running_mean \t torch.Size([64])\n",
            "features.9.running_var \t torch.Size([64])\n",
            "features.9.num_batches_tracked \t torch.Size([])\n",
            "fc.0.weight \t torch.Size([128, 1024])\n",
            "fc.0.bias \t torch.Size([128])\n",
            "fc.2.weight \t torch.Size([64, 128])\n",
            "fc.2.bias \t torch.Size([64])\n",
            "fc.4.weight \t torch.Size([10, 64])\n",
            "fc.4.bias \t torch.Size([10])\n",
            "\u001b[34mOptimizer's state_dict:\u001b[0m\n",
            "state \t {}\n",
            "param_groups \t [{'lr': 0.001, 'betas': (0.9, 0.999), 'final_lr': 0.1, 'gamma': 0.001, 'eps': 1e-08, 'weight_decay': 0, 'amsbound': False, 'params': [0, 1, 2, 3, 4, 5, 6, 7, 8, 9, 10, 11, 12, 13, 14, 15, 16, 17]}]\n"
          ],
          "name": "stdout"
        }
      ]
    },
    {
      "cell_type": "markdown",
      "metadata": {
        "id": "LKGoFCS1PZkV",
        "colab_type": "text"
      },
      "source": [
        "\n",
        "\n",
        "---\n",
        "\n",
        "\n",
        "![Training](https://2.bp.blogspot.com/-lo4ANmafiQM/WVpEeo68VPI/AAAAAAAAWxE/7FJBUGp-GrQFL5fUYEg6tQAJWXUHrtgWgCLcBGAs/s1600/3812_1.png)"
      ]
    },
    {
      "cell_type": "markdown",
      "metadata": {
        "id": "-N4ZKnOTriEz",
        "colab_type": "text"
      },
      "source": [
        "# **10. 訓練Training CNN模型**(計算Accuracy, Loss並顯示結果): 使用checkpoint\n",
        "# **11. 驗證Validating CNN模型**(計算Accuracy, Loss並顯示結果)\n",
        "[*背景知識*] TRAINING A CLASSIFIER, 請參攷 https://pytorch.org/tutorials/beginner/blitz/cifar10_tutorial.html"
      ]
    },
    {
      "cell_type": "code",
      "metadata": {
        "colab_type": "code",
        "id": "5rCbnfZ3VDuN",
        "colab": {
          "base_uri": "https://localhost:8080/",
          "height": 252
        },
        "outputId": "d96b34f5-1a2f-413a-ab09-e6ef8df66200"
      },
      "source": [
        "# Train、Validation\n",
        "def training_net(Epoch, trainLoader, Criterion, Optimizer, PATHcp):\n",
        "  if start_epoch == 0:\n",
        "    training_loss = []\n",
        "    validing_loss = []\n",
        "    training_accuracy = []\n",
        "    validing_accuracy = []\n",
        "  else:\n",
        "    checkpoint = torch.load(PATHcp, map_location='cpu')\n",
        "    training_loss = checkpoint['training_loss']\n",
        "    validing_loss = checkpoint['validing_loss']\n",
        "    training_accuracy = checkpoint['training_accuracy']\n",
        "    validing_accuracy = checkpoint['validing_accuracy']\n",
        "\n",
        "  # metric = 0  # used for learning rate policy 'plateau'\n",
        "  for epoch in range(start_epoch, Epoch):\n",
        "    train_start = time.time()\n",
        "    train_losss = 0.0\n",
        "    t_loss = 0.0\n",
        "    train_correct = 0\n",
        "    train_total = 0\n",
        "    model.train()\n",
        "    for times, tdata in enumerate(TrainLoader):\n",
        "      tinputs, tlabels = tdata[0].to(device), tdata[1].to(device)\n",
        "\n",
        "      # 反向傳播(Backward propagation), 計算loss function更新模型的權重\n",
        "      # Zero the parameter gradients, 將參數、梯度緩衝區歸零\n",
        "      Optimizer.zero_grad()\n",
        "\n",
        "      # Foward + backward + optimize\n",
        "      toutputs = model(tinputs)\n",
        "      _, predicted = torch.max(toutputs.data, 1)\n",
        "      train_total += tlabels.size(0)\n",
        "      train_correct += (predicted == tlabels).sum().item()\n",
        "\n",
        "      train_loss = Criterion(toutputs, tlabels)\n",
        "      train_loss.backward()\n",
        "      train_accuracy = 100 * train_correct / float(train_total)\n",
        "      train_losss += train_loss.item()\n",
        "      t_loss = train_losss / (float(train_total) / BatchSize)\n",
        "\n",
        "      Optimizer.step()\n",
        "      # Scheduler.step(metric)\n",
        "\n",
        "    training_accuracy.append(train_accuracy)\n",
        "    training_loss.append(t_loss)\n",
        "    # Print statistics\n",
        "    print(colored('Epoch: ', 'magenta') + '[%d/%d, %d/%d] - <Train>, loss: %.6f, accuracy: %.4f %%, duration: %.4f sec' % (\n",
        "      (epoch + 1),\n",
        "      Epoch,\n",
        "      (times + 1),\n",
        "      len(TrainLoader),\n",
        "      t_loss,\n",
        "      train_accuracy,\n",
        "      (time.time() - train_start))\n",
        "    )\n",
        "\n",
        "    valid_start = time.time()\n",
        "    valid_losss = 0.0\n",
        "    v_loss = 0.0\n",
        "    valid_correct = 0\n",
        "    valid_total = 0\n",
        "    model.eval()\n",
        "    for times, vdata in enumerate(ValidLoader):\n",
        "      vinputs, vlabels = vdata[0].to(device), vdata[1].to(device)\n",
        "      voutputs = model(vinputs)\n",
        "      _, predicted = torch.max(voutputs.data, 1)\n",
        "      valid_total += vlabels.size(0)\n",
        "      valid_correct += (predicted == vlabels).sum().item()\n",
        "      valid_loss = Criterion(voutputs, vlabels)\n",
        "      valid_accuracy = 100 * valid_correct / float(valid_total)\n",
        "      valid_losss += valid_loss.item()\n",
        "      v_loss = valid_losss / (float(valid_total) / BatchSize)\n",
        "\n",
        "    validing_accuracy.append(valid_accuracy)\n",
        "    validing_loss.append(v_loss)\n",
        "    # Print statistics\n",
        "    print(colored('Epoch: ', 'blue') + '[%d/%d, %d/%d] - <Validation>, loss: %.6f, accuracy: %.4f %%, duration: %.4f sec' % (\n",
        "      (epoch + 1),\n",
        "      Epoch,\n",
        "      (times + 1),\n",
        "      len(ValidLoader),\n",
        "      v_loss,\n",
        "      valid_accuracy,\n",
        "      (time.time() - valid_start))\n",
        "    )\n",
        "\n",
        "    # Checkpoint\n",
        "    # print('Checkpoint ...')\n",
        "    torch.save({'optimizer_state_dict': Optimizer.state_dict(),\n",
        "          'model_state_dict': model.state_dict(),\n",
        "          'epoch': epoch + 1,\n",
        "          'training_loss': training_loss,\n",
        "          'validing_loss': validing_loss,\n",
        "          'training_accuracy': training_accuracy,\n",
        "          'validing_accuracy': validing_accuracy}, PATHcp)\n",
        "\n",
        "  return training_loss, training_accuracy, validing_loss, validing_accuracy\n",
        "\n",
        "\n",
        "# Checkpoint\n",
        "PATHcp = p['PATHcp']\n",
        "if Checkpoint:\n",
        "  if os.path.exists(PATHcp):\n",
        "    os.remove(PATHcp)\n",
        "\n",
        "if os.path.exists(PATHcp):\n",
        "  print(colored('Restart from checkpoint {}'.format(PATHcp), 'blue'))\n",
        "  checkpoint = torch.load(PATHcp, map_location='cpu')\n",
        "  Optimizer.load_state_dict(checkpoint['optimizer_state_dict'])\n",
        "  model.load_state_dict(checkpoint['model_state_dict'])\n",
        "  if torch.cuda.is_available():\n",
        "    model.cuda()\n",
        "  else:\n",
        "    model = model.cpu()\n",
        "\n",
        "  start_epoch = checkpoint['epoch']\n",
        "  training_loss = checkpoint['training_loss']\n",
        "  validing_loss = checkpoint['validing_loss']\n",
        "  training_accuracy = checkpoint['training_accuracy']\n",
        "  validing_accuracy = checkpoint['validing_accuracy']\n",
        "else:\n",
        "  print(colored('No checkpoint file at {}'.format(PATHcp), 'blue'))\n",
        "  start_epoch = 0\n",
        "  if torch.cuda.is_available():\n",
        "    model = model.cuda()\n",
        "  else:\n",
        "    model = model.cpu()\n",
        "\n",
        "print('Started Training.')\n",
        "training_loss, training_accuracy, validing_loss, validing_accuracy = training_net(Epoch, TrainLoader, Criterion, Optimizer, PATHcp)\n",
        "print('Finished Training.')\n",
        "logging.info('>>Training done!')"
      ],
      "execution_count": 15,
      "outputs": [
        {
          "output_type": "stream",
          "text": [
            "\u001b[34mNo checkpoint file at ./checkpoint.pth\u001b[0m\n",
            "Started Training.\n"
          ],
          "name": "stdout"
        },
        {
          "output_type": "stream",
          "text": [
            "/usr/local/lib/python3.6/dist-packages/torch_optimizer/adabound.py:142: UserWarning: This overload of add_ is deprecated:\n",
            "\tadd_(Number alpha, Tensor other)\n",
            "Consider using one of the following signatures instead:\n",
            "\tadd_(Tensor other, *, Number alpha) (Triggered internally at  /pytorch/torch/csrc/utils/python_arg_parser.cpp:766.)\n",
            "  exp_avg.mul_(beta1).add_(1 - beta1, grad)\n"
          ],
          "name": "stderr"
        },
        {
          "output_type": "stream",
          "text": [
            "\u001b[35mEpoch: \u001b[0m[1/3, 2625/2625] - <Train>, loss: 0.168017, accuracy: 94.7690 %, duration: 62.4397 sec\n",
            "\u001b[34mEpoch: \u001b[0m[1/3, 1125/1125] - <Validation>, loss: 0.080124, accuracy: 97.6056 %, duration: 9.4185 sec\n",
            "\u001b[35mEpoch: \u001b[0m[2/3, 2625/2625] - <Train>, loss: 0.060167, accuracy: 98.2643 %, duration: 62.7011 sec\n",
            "\u001b[34mEpoch: \u001b[0m[2/3, 1125/1125] - <Validation>, loss: 0.043674, accuracy: 98.6500 %, duration: 9.1978 sec\n",
            "\u001b[35mEpoch: \u001b[0m[3/3, 2625/2625] - <Train>, loss: 0.040851, accuracy: 98.7048 %, duration: 61.8001 sec\n",
            "\u001b[34mEpoch: \u001b[0m[3/3, 1125/1125] - <Validation>, loss: 0.040836, accuracy: 98.8333 %, duration: 9.3108 sec\n",
            "Finished Training.\n"
          ],
          "name": "stdout"
        }
      ]
    },
    {
      "cell_type": "code",
      "metadata": {
        "colab_type": "code",
        "id": "TUEEnLZss-GX",
        "colab": {
          "base_uri": "https://localhost:8080/",
          "height": 573
        },
        "outputId": "fca75fa8-689a-4965-c13b-982bd04c86a6"
      },
      "source": [
        "# 訓練、預測結果視覺化(visualization)\n",
        "plt.plot(range(Epoch), training_loss, 'b--', label='Training_loss')\n",
        "plt.plot(range(Epoch), validing_loss, 'g-', label='Validating_loss')\n",
        "plt.title('Training & Validating loss')\n",
        "plt.xlabel('Number of epochs')\n",
        "plt.ylabel('Loss')\n",
        "plt.legend()\n",
        "plt.show()\n",
        "\n",
        "plt.plot(range(Epoch), training_accuracy, 'b--', label='Training_accuracy')\n",
        "plt.plot(range(Epoch), validing_accuracy, 'g-', label='Validating_accuracy')\n",
        "plt.title('Training & Validating accuracy')\n",
        "plt.xlabel('Number of epochs')\n",
        "plt.ylabel('Accuracy')\n",
        "plt.legend()\n",
        "plt.show()"
      ],
      "execution_count": 16,
      "outputs": [
        {
          "output_type": "display_data",
          "data": {
            "image/png": "[encoded data removed]",
            "text/plain": [
              "<Figure size 432x288 with 1 Axes>"
            ]
          },
          "metadata": {
            "tags": [],
            "needs_background": "light"
          }
        },
        {
          "output_type": "display_data",
          "data": {
            "image/png": "[encoded data removed]",
            "text/plain": [
              "<Figure size 432x288 with 1 Axes>"
            ]
          },
          "metadata": {
            "tags": [],
            "needs_background": "light"
          }
        }
      ]
    },
    {
      "cell_type": "markdown",
      "metadata": {
        "id": "XERAYfg-QuX0",
        "colab_type": "text"
      },
      "source": [
        "\n",
        "\n",
        "---\n",
        "\n",
        "\n",
        "![Confusion Matrix](https://2.bp.blogspot.com/-EvSXDotTOwc/XMfeOGZ-CVI/AAAAAAAAEiE/oePFfvhfOQM11dgRn9FkPxlegCXbgOF4QCLcBGAs/s1600/confusionMatrxiUpdated.jpg)\n",
        "![F1 Score](https://4.bp.blogspot.com/-0CJRaFYOJZE/XMfpAkCCKRI/AAAAAAAAEjk/5q7y2hIULvsz62QApm7DOAXuc2u02Sn5wCEwYBhgL/s400/f%2Bscore.jpg)"
      ]
    },
    {
      "cell_type": "markdown",
      "metadata": {
        "id": "sqb96VB7r9w1",
        "colab_type": "text"
      },
      "source": [
        "# **12. 評估Evaluating CNN模型**-驗證指標(Validation index): 混淆矩陣(Confusion Matrix)\n",
        "[*背景知識*] Confusion Matrix in Machine Learning, 請參攷 https://www.geeksforgeeks.org/confusion-matrix-machine-learning/"
      ]
    },
    {
      "cell_type": "code",
      "metadata": {
        "colab_type": "code",
        "id": "68bp4VmegUYw",
        "colab": {
          "base_uri": "https://localhost:8080/",
          "height": 748
        },
        "outputId": "ca28609e-474c-4f8e-a43e-e9d29faad3c9"
      },
      "source": [
        "# 混淆矩陣(Confusion Matrix)\n",
        "class_names = ('0', '1', '2', '3', '4', '5', '6', '7', '8', '9')\n",
        "\n",
        "def plot_confusion_matrix(cm, classes, normalize=False, title='Confusion Matrix', cmap=plt.cm.Blues):\n",
        "  if normalize:\n",
        "    cm = cm / cm.sum(axis=1)[:, np.newaxis]\n",
        "  print(colored(title, 'blue'))\n",
        "  # print(cm)\n",
        "\n",
        "  plt.imshow(cm, interpolation='nearest', cmap=cmap)\n",
        "  plt.title(title)\n",
        "  plt.colorbar()\n",
        "  tick_marks = np.arange(len(classes))\n",
        "  plt.xticks(tick_marks, classes, rotation=45)\n",
        "  plt.yticks(tick_marks, classes)\n",
        "\n",
        "  fmt = '.4f' if normalize else 'd'\n",
        "  thresh = cm.max() / 2.\n",
        "  for i, j in itertools.product(range(cm.shape[0]), range(cm.shape[1])):\n",
        "    plt.text(j, i,\n",
        "        format(cm[i, j], fmt),\n",
        "        horizontalalignment='center',\n",
        "        color='white' if cm[i, j] > thresh else 'black')\n",
        "\n",
        "\n",
        "def evaluate(ValidLoader):\n",
        "  confusion_matrix = torch.zeros(NumClasses, NumClasses)\n",
        "  with torch.no_grad():\n",
        "    model.eval()\n",
        "    for inputs, labels in ValidLoader:\n",
        "      inputs = inputs.to(device)\n",
        "      labels = labels.to(device)\n",
        "      outputs = model(inputs) \n",
        "      _, predicted = torch.max(outputs, 1)\n",
        "      for true, pred in zip(labels.view(-1), predicted.view(-1)):\n",
        "        confusion_matrix[true.long(), pred.long()] += 1\n",
        "\n",
        "  # print('Confusion Matrix:\\n{}'.format(confusion_matrix.data.numpy()))\n",
        "  precision = confusion_matrix.diag() / confusion_matrix.sum(1)\n",
        "  print(colored('Precision: ', 'blue') + '{}'.format(precision.data.numpy()))\n",
        "  recall = confusion_matrix.diag() / confusion_matrix.sum(0)\n",
        "  print(colored('Recall: ', 'blue') + '{}'.format(recall.data.numpy()))\n",
        "  f1 = 2 * (precision * recall) / (precision + recall)\n",
        "  print(colored('F1 Score: ', 'blue') + '{}'.format(f1.data.numpy()))\n",
        "  mean = f1.mean()\n",
        "  print(colored('Mean: ', 'blue') + '{:.6f}'.format(mean))\n",
        "\n",
        "  # Plot normalized confusion matrix\n",
        "  plt.figure(figsize=(10, 10))\n",
        "  plot_confusion_matrix(confusion_matrix, classes=class_names, normalize=True, title='Normalized Confusion Matrix')\n",
        "  plt.show()\n",
        "\n",
        "\n",
        "print('Started Evaluating.')\n",
        "evaluate(ValidLoader)\n",
        "print('Finished Evaluating.')\n",
        "logging.info('>>Evaluating done!')"
      ],
      "execution_count": 17,
      "outputs": [
        {
          "output_type": "stream",
          "text": [
            "Started Evaluating.\n",
            "\u001b[34mPrecision: \u001b[0m[0.988591   0.9916297  0.9914383  0.98811454 0.99367815 0.98876405\n",
            " 0.99718785 0.9946121  0.987819   0.96162283]\n",
            "\u001b[34mRecall: \u001b[0m[0.99085194 0.9965364  0.9830221  0.98598385 0.988      0.9922849\n",
            " 0.9811843  0.9803505  0.98896635 0.99602497]\n",
            "\u001b[34mF1 Score: \u001b[0m[0.98972017 0.99407697 0.9872123  0.98704803 0.99083096 0.9905213\n",
            " 0.9891214  0.9874298  0.98839235 0.9785216 ]\n",
            "\u001b[34mMean: \u001b[0m0.988287\n",
            "\u001b[34mNormalized Confusion Matrix\u001b[0m\n"
          ],
          "name": "stdout"
        },
        {
          "output_type": "display_data",
          "data": {
            "image/png": "[encoded data removed]",
            "text/plain": [
              "<Figure size 720x720 with 2 Axes>"
            ]
          },
          "metadata": {
            "tags": [],
            "needs_background": "light"
          }
        },
        {
          "output_type": "stream",
          "text": [
            "Finished Evaluating.\n"
          ],
          "name": "stdout"
        }
      ]
    },
    {
      "cell_type": "markdown",
      "metadata": {
        "id": "9F7HcvB6Zm1w",
        "colab_type": "text"
      },
      "source": [
        "# **13. 調參優化**\n",
        "[*背景知識*] 可參攷 https://pytorch.org/assets/deep-learning/Deep-Learning-with-PyTorch.pdf\n",
        "![調參](http://5b0988e595225.cdn.sohucs.com/images/20190221/c429f93326dd4e0bb47ad2806d10660d.jpeg)"
      ]
    },
    {
      "cell_type": "markdown",
      "metadata": {
        "id": "C2t8ybjmsEmV",
        "colab_type": "text"
      },
      "source": [
        "# **14. 儲存模型相關數據**: 使用checkpoint\n",
        "[*背景知識*] SAVING AND LOADING MODELS, 請參攷 https://pytorch.org/tutorials/beginner/saving_loading_models.html\n",
        "\n",
        "---\n",
        "\n"
      ]
    },
    {
      "cell_type": "code",
      "metadata": {
        "id": "P3uzv_9V4ccp",
        "colab_type": "code",
        "colab": {}
      },
      "source": [
        "# Saving a General Checkpoint for Inference and/or Resuming Training\n",
        "# Save final model\n",
        "PATH = p['PATH']\n",
        "torch.save({'epoch': Epoch,\n",
        "      'model_state_dict': model.state_dict(),\n",
        "      'optimizer_state_dict': Optimizer.state_dict(),\n",
        "      'loss': Criterion,\n",
        "      'training_loss': training_loss,\n",
        "      'validing_loss': validing_loss,\n",
        "      'training_accuracy': training_accuracy,\n",
        "      'validing_accuracy': validing_accuracy}, PATH)"
      ],
      "execution_count": 18,
      "outputs": []
    },
    {
      "cell_type": "markdown",
      "metadata": {
        "id": "Q8XdaUgUsPEO",
        "colab_type": "text"
      },
      "source": [
        "# **15. 讀取模型相關數據**: 使用checkpoint"
      ]
    },
    {
      "cell_type": "code",
      "metadata": {
        "id": "o4r2mTFA-VYd",
        "colab_type": "code",
        "colab": {}
      },
      "source": [
        "# Loading a General Checkpoint for Inference and/or Resuming Training\n",
        "model = CNNModelClass(NumClasses).to(device)\n",
        "# optimizer = TheOptimizerClass(*args, **kwargs)\n",
        "checkpoint = torch.load(PATH)\n",
        "model.load_state_dict(checkpoint['model_state_dict'])\n",
        "Optimizer.load_state_dict(checkpoint['optimizer_state_dict'])\n",
        "Epoch = checkpoint['epoch']\n",
        "Criterion = checkpoint['loss']"
      ],
      "execution_count": 19,
      "outputs": []
    },
    {
      "cell_type": "markdown",
      "metadata": {
        "id": "oH4OJR9WSQ8s",
        "colab_type": "text"
      },
      "source": [
        "\n",
        "\n",
        "---\n",
        "\n",
        "\n",
        "![Test](https://research.binus.ac.id/airnd/wp-content/uploads/sites/12/2018/03/ConvNet-1-768x346.png)\n"
      ]
    },
    {
      "cell_type": "markdown",
      "metadata": {
        "id": "K1-HXeL_sY6c",
        "colab_type": "text"
      },
      "source": [
        "# **16. 測試Testing CNN模型**(計算Accuracy, Loss並顯示各類別的結果)\n",
        "[*背景知識*] Convolutional Neural Networks Tutorial in PyTorch, 請參攷 https://adventuresinmachinelearning.com/convolutional-neural-networks-tutorial-in-pytorch/"
      ]
    },
    {
      "cell_type": "code",
      "metadata": {
        "id": "R24rvBcNBhPF",
        "colab_type": "code",
        "colab": {
          "base_uri": "https://localhost:8080/",
          "height": 235
        },
        "outputId": "eed253df-8d28-4d31-9970-94c4d71eabfa"
      },
      "source": [
        "# Test\n",
        "def testing_net(TestLoader):\n",
        "  test_start = time.time()\n",
        "  test_losss = 0.0\n",
        "  t_loss = 0.0\n",
        "  test_correct = 0\n",
        "  test_total = 0\n",
        "\n",
        "  model.eval()  # 模型評估模式，沒有要繼續訓練模型、而只拿來應用\n",
        "\n",
        "  with torch.no_grad():\n",
        "    for data in TestLoader:\n",
        "      inputs, labels = data\n",
        "      inputs, labels = inputs.to(device), labels.to(device)\n",
        "      outputs = model(inputs)\n",
        "      _, predicted = torch.max(outputs.data, 1)\n",
        "      test_loss = Criterion(outputs, labels)\n",
        "      test_total += labels.size(0)\n",
        "      test_correct += (predicted == labels).sum().item()\n",
        "      test_accuracy = 100 * test_correct / float(test_total)\n",
        "      test_losss += test_loss.item()\n",
        "      t_loss = test_losss / (float(test_total) / BatchSize)\n",
        "\n",
        "    print('Accuracy of the network on the 10000 test images: %.4f %%, loss: %.4f, duration: %.4f sec' % (\n",
        "        test_accuracy,\n",
        "        t_loss,\n",
        "        (time.time() - test_start)\n",
        "        )\n",
        "    )\n",
        "\n",
        "\n",
        "print('Started Testing.')\n",
        "testing_net(TestLoader)\n",
        "print('Finished Testing.')\n",
        "logging.info('>>Testing done!')\n",
        "\n",
        "class_correct = [0 for i in range(p['NumClasses'])]\n",
        "class_total = [0 for i in range(p['NumClasses'])]\n",
        "\n",
        "with torch.no_grad():\n",
        "  model.eval()  # 模型評估模式\n",
        "  for data in TestLoader:\n",
        "    inputs, labels = data[0].to(device), data[1].to(device)\n",
        "\n",
        "    outputs = model(inputs)\n",
        "    _, predicted = torch.max(outputs, 1)\n",
        "    correct = (predicted == labels).squeeze()\n",
        "    for i in range(10):\n",
        "      label = labels[i]\n",
        "      class_correct[label] += correct[i].item()\n",
        "      class_total[label] += 1\n",
        "      # print(class_correct)\n",
        "      # print(class_total)\n",
        "\n",
        "# 列印10個類別的Accuracy\n",
        "for i in range(len(class_total)):\n",
        "  print(colored('Accuracy ', 'blue') + 'of class[%d]: %3f' % (i, (class_correct[i] / class_total[i])))"
      ],
      "execution_count": 20,
      "outputs": [
        {
          "output_type": "stream",
          "text": [
            "Started Testing.\n",
            "Accuracy of the network on the 10000 test images: 98.9300 %, loss: 0.0375, duration: 4.9552 sec\n",
            "Finished Testing.\n",
            "\u001b[34mAccuracy \u001b[0mof class[0]: 0.988655\n",
            "\u001b[34mAccuracy \u001b[0mof class[1]: 0.994358\n",
            "\u001b[34mAccuracy \u001b[0mof class[2]: 0.996933\n",
            "\u001b[34mAccuracy \u001b[0mof class[3]: 0.987220\n",
            "\u001b[34mAccuracy \u001b[0mof class[4]: 0.995290\n",
            "\u001b[34mAccuracy \u001b[0mof class[5]: 0.981413\n",
            "\u001b[34mAccuracy \u001b[0mof class[6]: 0.988095\n",
            "\u001b[34mAccuracy \u001b[0mof class[7]: 0.995146\n",
            "\u001b[34mAccuracy \u001b[0mof class[8]: 0.988618\n",
            "\u001b[34mAccuracy \u001b[0mof class[9]: 0.975385\n"
          ],
          "name": "stdout"
        }
      ]
    },
    {
      "cell_type": "code",
      "metadata": {
        "id": "bf08ndI4JH7A",
        "colab_type": "code",
        "colab": {
          "base_uri": "https://localhost:8080/",
          "height": 34
        },
        "outputId": "d26ffc85-0f0c-4acc-b8b9-bb4c067434ca"
      },
      "source": [
        "# 只測試一張圖片\n",
        "correct = 0\n",
        "total = 0\n",
        "num = 1000  # 第1000張圖片\n",
        "\n",
        "model.eval()  # 模型評估模式，沒有要繼續訓練模型、而只拿來應用\n",
        "\n",
        "with torch.no_grad():\n",
        "  for data in Test10kLoader:\n",
        "    inputs, labels = data\n",
        "    inputs, labels = inputs.to(device), labels.to(device)\n",
        "    inputs = inputs[num].view((-1 ,p['Channels'], p['Height'], p['Width']), -1)\n",
        "    outputs = model(inputs)\n",
        "    _, predicted = torch.max(outputs.data, 1)\n",
        "    total += 1\n",
        "    correct += (predicted == labels[num]).sum().item()\n",
        "    break\n",
        "\n",
        "print('Accuracy of the network on the #%d test image: %f %% -> [predict: %d, label: %d]' % (\n",
        "    num,\n",
        "    (100 * correct / total),\n",
        "    predicted,\n",
        "    labels[num]\n",
        "    )\n",
        ")"
      ],
      "execution_count": 21,
      "outputs": [
        {
          "output_type": "stream",
          "text": [
            "Accuracy of the network on the #1000 test image: 100.000000 % -> [predict: 9, label: 9]\n"
          ],
          "name": "stdout"
        }
      ]
    },
    {
      "cell_type": "code",
      "metadata": {
        "id": "SoAlPYhWIFLh",
        "colab_type": "code",
        "colab": {
          "base_uri": "https://localhost:8080/",
          "height": 112
        },
        "outputId": "260838ec-8ad8-4529-b789-e48b38a2daa5"
      },
      "source": [
        "# Test the network on the test data\n",
        "# functions to show an image\n",
        "def imshow(img):\n",
        "  img = img / 2 + 0.5  # unnormalize\n",
        "  npimg = img.numpy()\n",
        "  plt.imshow(np.transpose(npimg, (1, 2, 0)))\n",
        "  plt.show()\n",
        "\n",
        "\n",
        "dataiter = iter(TestLoader)\n",
        "images, labels = dataiter.next()\n",
        "\n",
        "# print images\n",
        "imshow(utils.make_grid(images[:8]))\n",
        "print(colored('Ground Truth(GT):', 'blue'), ''.join('%3s' % class_names[labels[j]] for j in range(8)))"
      ],
      "execution_count": 22,
      "outputs": [
        {
          "output_type": "display_data",
          "data": {
            "image/png": "[encoded data removed]",
            "text/plain": [
              "<Figure size 432x288 with 1 Axes>"
            ]
          },
          "metadata": {
            "tags": [],
            "needs_background": "light"
          }
        },
        {
          "output_type": "stream",
          "text": [
            "\u001b[34mGround Truth(GT):\u001b[0m   7  2  1  0  4  1  4  9\n"
          ],
          "name": "stdout"
        }
      ]
    },
    {
      "cell_type": "code",
      "metadata": {
        "id": "ZH5la88-AMkC",
        "colab_type": "code",
        "colab": {
          "base_uri": "https://localhost:8080/",
          "height": 34
        },
        "outputId": "b19cd94c-aea3-4649-8289-085ec1d710f4"
      },
      "source": [
        "# Elapsed time\n",
        "print('The elapsed time(ET) of this CNN model: [%.4f sec]' % (time.time() - model_start))\n",
        "logging.info('>>ET: [%.4f sec]' % (time.time() - model_start))"
      ],
      "execution_count": 23,
      "outputs": [
        {
          "output_type": "stream",
          "text": [
            "The elapsed time(ET) of this CNN model: [240.4004 sec]\n"
          ],
          "name": "stdout"
        }
      ]
    },
    {
      "cell_type": "markdown",
      "metadata": {
        "id": "B_F-5Nrmod0I",
        "colab_type": "text"
      },
      "source": [
        "# **17. 讀取日誌**\n"
      ]
    },
    {
      "cell_type": "code",
      "metadata": {
        "id": "m77aNbiqp1NM",
        "colab_type": "code",
        "colab": {
          "base_uri": "https://localhost:8080/",
          "height": 84
        },
        "outputId": "5da7cbf5-b4a2-4dfb-f75a-82de244d5335"
      },
      "source": [
        "!cat cnn.log"
      ],
      "execution_count": 24,
      "outputs": [
        {
          "output_type": "stream",
          "text": [
            "2020-08-26 10:38 INFO >>Training done!\n",
            "2020-08-26 10:38 INFO >>Evaluating done!\n",
            "2020-08-26 10:38 INFO >>Testing done!\n",
            "2020-08-26 10:38 INFO >>ET: [240.4005 sec]\n"
          ],
          "name": "stdout"
        }
      ]
    }
  ]
}