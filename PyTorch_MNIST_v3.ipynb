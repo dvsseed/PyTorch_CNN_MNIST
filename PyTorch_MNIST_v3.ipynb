{
  "nbformat": 4,
  "nbformat_minor": 0,
  "metadata": {
    "colab": {
      "name": "PyTorch_MNIST_v3.ipynb",
      "provenance": [],
      "collapsed_sections": [],
      "include_colab_link": true
    },
    "kernelspec": {
      "name": "python3",
      "display_name": "Python 3"
    },
    "accelerator": "GPU"
  },
  "cells": [
    {
      "cell_type": "markdown",
      "metadata": {
        "id": "view-in-github",
        "colab_type": "text"
      },
      "source": [
        "<a href=\"https://colab.research.google.com/github/dvsseed/PyTorch_CNN_MNIST/blob/master/PyTorch_MNIST_v3.ipynb\" target=\"_parent\"><img src=\"https://colab.research.google.com/assets/colab-badge.svg\" alt=\"Open In Colab\"/></a>"
      ]
    },
    {
      "cell_type": "markdown",
      "metadata": {
        "colab_type": "text",
        "id": "aI-i0nSsEY4m"
      },
      "source": [
        "# CNN—PyTorch—MNIST @Date:2020-08-12\n",
        "##### *以下示範碼執行所需時間約160秒(GPU)、535秒(CPU)*\n",
        "---\n",
        "\n"
      ]
    },
    {
      "cell_type": "markdown",
      "metadata": {
        "id": "pwTLu5bBY_x-",
        "colab_type": "text"
      },
      "source": [
        "![Coding Style](https://4.bp.blogspot.com/-0pYHjZbv-48/Wkc5cPmrXDI/AAAAAAAAHkM/H2hnkggGlT83-B81ofzNZygpZNlqBcO9ACLcBGAs/s640/paradigm_shift.jpg)"
      ]
    },
    {
      "cell_type": "markdown",
      "metadata": {
        "id": "UIaEBSbgOk5e",
        "colab_type": "text"
      },
      "source": [
        "**CNN--PyTorch Coding**\n",
        "1. 匯入套件\n",
        "2. 使用GPU(加速)或CPU\n",
        "3. 圖片轉換(預處理)\n",
        "4. 準備資料集(MNIST)：Train(42,000)、Validation(18,000)、Test(10,000)\n",
        "5. 建立CNN模型(3Conv+3FC)\n",
        "6. 設定CNN參數(Epochs, Learning Rate, Loss function, Optimizer)\n",
        "7. 訓練(checkpoint)CNN模型(計算Accuracy, Loss並顯示結果)\n",
        "8. 預測CNN模型(計算Accuracy, Loss並顯示結果)\n",
        "9. 評估CNN模型-驗證指標(Validation index): 混淆矩陣(Confusion Matrix)\n",
        "10. 調參優化\n",
        "11. 儲存(checkpoint)模型相關數據\n",
        "12. 讀取(checkpoint)模型相關數據\n",
        "13. 測試CNN模型(計算Accuracy, Loss並顯示各類別的結果)\n",
        "\n",
        "---\n",
        "\n",
        "\n"
      ]
    },
    {
      "cell_type": "markdown",
      "metadata": {
        "id": "wwufO5vTEZnU",
        "colab_type": "text"
      },
      "source": [
        "![Packages](https://manalelaidouni.github.io/assets/img/pexels/Pytorch-package-hierarchy.jpg)\n",
        "\n",
        "---\n",
        "\n"
      ]
    },
    {
      "cell_type": "code",
      "metadata": {
        "id": "IS6ukSuHzHYB",
        "colab_type": "code",
        "colab": {
          "base_uri": "https://localhost:8080/",
          "height": 101
        },
        "outputId": "99f9be44-6798-4cfc-c5db-8edc9576919d"
      },
      "source": [
        "!pip install torch_optimizer  # for AdaBound\n",
        "Checkpoint = 1  # if checkpoint or not"
      ],
      "execution_count": 1,
      "outputs": [
        {
          "output_type": "stream",
          "text": [
            "Requirement already satisfied: torch_optimizer in /usr/local/lib/python3.6/dist-packages (0.0.1a15)\n",
            "Requirement already satisfied: pytorch-ranger>=0.1.1 in /usr/local/lib/python3.6/dist-packages (from torch_optimizer) (0.1.1)\n",
            "Requirement already satisfied: torch>=1.1.0 in /usr/local/lib/python3.6/dist-packages (from torch_optimizer) (1.6.0+cu101)\n",
            "Requirement already satisfied: numpy in /usr/local/lib/python3.6/dist-packages (from torch>=1.1.0->torch_optimizer) (1.18.5)\n",
            "Requirement already satisfied: future in /usr/local/lib/python3.6/dist-packages (from torch>=1.1.0->torch_optimizer) (0.16.0)\n"
          ],
          "name": "stdout"
        }
      ]
    },
    {
      "cell_type": "markdown",
      "metadata": {
        "id": "xgC-815gprHN",
        "colab_type": "text"
      },
      "source": [
        "# **1. 匯入套件**"
      ]
    },
    {
      "cell_type": "code",
      "metadata": {
        "colab_type": "code",
        "id": "n55IKIvC55w5",
        "colab": {}
      },
      "source": [
        "# Import Libraries\n",
        "import torch\n",
        "import torch.nn as nn\n",
        "# import torch.optim as optim\n",
        "from torch.optim import lr_scheduler\n",
        "import torch_optimizer as optim  # for AdaBound\n",
        "import torch.utils.data as dset\n",
        "import torch.nn.functional as F\n",
        "from torchvision import datasets, transforms, utils\n",
        "from torchsummary import summary\n",
        "import matplotlib.pyplot as plt\n",
        "import numpy as np\n",
        "from sklearn.metrics import classification_report, confusion_matrix, plot_confusion_matrix\n",
        "import time\n",
        "import os\n",
        "import itertools\n",
        "from termcolor import colored"
      ],
      "execution_count": 2,
      "outputs": []
    },
    {
      "cell_type": "markdown",
      "metadata": {
        "id": "cEnbeMu1FSti",
        "colab_type": "text"
      },
      "source": [
        "\n",
        "\n",
        "---\n",
        "\n",
        "\n",
        "![PyTorch](https://miro.medium.com/max/864/0*dp6NCTWXmbelZwBd)"
      ]
    },
    {
      "cell_type": "code",
      "metadata": {
        "id": "tlwz9xQ6SKuB",
        "colab_type": "code",
        "colab": {
          "base_uri": "https://localhost:8080/",
          "height": 67
        },
        "outputId": "ab46d0a9-6a34-44af-c2e5-5f10519502f9"
      },
      "source": [
        "model_start = time.time()  # start timer\n",
        "print('PyTorch version:', torch.__version__)  # PyTorch version\n",
        "print('CUDA version:', torch.version.cuda)  # Corresponding CUDA version\n",
        "print('cuDNN version:', torch.backends.cudnn.version())  # Corresponding cuDNN version"
      ],
      "execution_count": 3,
      "outputs": [
        {
          "output_type": "stream",
          "text": [
            "PyTorch version: 1.6.0+cu101\n",
            "CUDA version: 10.1\n",
            "cuDNN version: 7603\n"
          ],
          "name": "stdout"
        }
      ]
    },
    {
      "cell_type": "markdown",
      "metadata": {
        "id": "Z_JkPhuqFdZ4",
        "colab_type": "text"
      },
      "source": [
        "\n",
        "\n",
        "---\n",
        "\n",
        "\n",
        "![CUDA](https://upload.wikimedia.org/wikipedia/commons/5/59/CUDA.png)"
      ]
    },
    {
      "cell_type": "markdown",
      "metadata": {
        "id": "jfKm0MvNqoAP",
        "colab_type": "text"
      },
      "source": [
        "# **2. 使用GPU(加速)或CPU**"
      ]
    },
    {
      "cell_type": "code",
      "metadata": {
        "id": "484k9_3E8XQn",
        "colab_type": "code",
        "colab": {
          "base_uri": "https://localhost:8080/",
          "height": 84
        },
        "outputId": "816a203e-5b08-4391-8ad7-6c623ddf8be1"
      },
      "source": [
        "# How many GPUs are there?\n",
        "if torch.cuda.is_available(): print('GPUs:', torch.cuda.device_count())\n",
        "\n",
        "# Which GPU Is The Current GPU?\n",
        "if torch.cuda.is_available(): print('GPU device:', torch.cuda.current_device())\n",
        "\n",
        "# Get the name of the current GPU\n",
        "if torch.cuda.is_available(): print('GPU name:', torch.cuda.get_device_name(torch.cuda.current_device()))\n",
        "\n",
        "# 確認 GPU 是否可用\n",
        "device = 'cuda:0' if torch.cuda.is_available() else 'cpu'\n",
        "print('GPU State:', device)"
      ],
      "execution_count": 4,
      "outputs": [
        {
          "output_type": "stream",
          "text": [
            "GPUs: 1\n",
            "GPU device: 0\n",
            "GPU name: Tesla K80\n",
            "GPU State: cuda:0\n"
          ],
          "name": "stdout"
        }
      ]
    },
    {
      "cell_type": "markdown",
      "metadata": {
        "id": "m2jDmBtHFzzO",
        "colab_type": "text"
      },
      "source": [
        "\n",
        "\n",
        "---\n",
        "\n",
        "\n",
        "![Image transform](https://www.cse.iitb.ac.in/~vkaushal/talk/auto-augment/featured_huc5f6bfa335655300e966e45366a24701_359424_720x0_resize_lanczos_2.png)"
      ]
    },
    {
      "cell_type": "markdown",
      "metadata": {
        "id": "Vf0EKxPkq07T",
        "colab_type": "text"
      },
      "source": [
        "# **3. 圖片轉換(預處理)**"
      ]
    },
    {
      "cell_type": "code",
      "metadata": {
        "id": "Agey2Hm48tY3",
        "colab_type": "code",
        "colab": {}
      },
      "source": [
        "# Image Transform\n",
        "Transform = transforms.Compose(\n",
        "  [\n",
        "   transforms.ToTensor(),  # 轉成 Tensor 型態\n",
        "   transforms.Normalize((0.5,), (0.5,)),  # 正規化\n",
        "  ]\n",
        ")"
      ],
      "execution_count": 5,
      "outputs": []
    },
    {
      "cell_type": "markdown",
      "metadata": {
        "id": "UljbzXomGYTq",
        "colab_type": "text"
      },
      "source": [
        "\n",
        "\n",
        "---\n",
        "\n",
        "\n",
        "![MNIST](https://jason-chen-1992.weebly.com/uploads/1/0/8/5/108557741/example-images-from-the-mnist-dataset_orig.png)"
      ]
    },
    {
      "cell_type": "markdown",
      "metadata": {
        "id": "fLbq8-a0q7jc",
        "colab_type": "text"
      },
      "source": [
        "# **4. 準備資料集(MNIST)**：Train(42,000)、Validation(18,000)、Test(10,000)"
      ]
    },
    {
      "cell_type": "code",
      "metadata": {
        "id": "QE5bIq2M9eqd",
        "colab_type": "code",
        "colab": {}
      },
      "source": [
        "# Dataset\n",
        "BatchSize = 16\n",
        "\n",
        "TrainSet0 = datasets.MNIST(root='MNIST', download=True, train=True, transform=Transform)\n",
        "TestSet = datasets.MNIST(root='MNIST', download=True, train=False, transform=Transform)\n",
        "\n",
        "# 切分70%當作訓練集、30%當作驗證集\n",
        "train_size = int(0.7 * len(TrainSet0))\n",
        "valid_size = len(TrainSet0) - train_size\n",
        "TrainSet, ValidSet = torch.utils.data.random_split(TrainSet0, [train_size, valid_size])\n",
        "\n",
        "TrainLoader = dset.DataLoader(TrainSet, batch_size=BatchSize, shuffle=True)  # 打亂數據則將shuffle=True\n",
        "ValidLoader = dset.DataLoader(ValidSet, batch_size=BatchSize, shuffle=True)\n",
        "TestLoader = dset.DataLoader(TestSet, batch_size=BatchSize, shuffle=False)\n",
        "Test10kLoader = dset.DataLoader(TestSet, batch_size=len(TestSet), shuffle=False)"
      ],
      "execution_count": 6,
      "outputs": []
    },
    {
      "cell_type": "markdown",
      "metadata": {
        "id": "5Ib3L_vNHLEM",
        "colab_type": "text"
      },
      "source": [
        "\n",
        "\n",
        "---\n",
        "\n",
        "\n",
        "![CNN](https://jason-chen-1992.weebly.com/uploads/1/0/8/5/108557741/dnn-for-mnist_1_orig.png)"
      ]
    },
    {
      "cell_type": "markdown",
      "metadata": {
        "id": "bcnB4oMarLnN",
        "colab_type": "text"
      },
      "source": [
        "# **5. 建立CNN模型**(3Conv+3FC)"
      ]
    },
    {
      "cell_type": "code",
      "metadata": {
        "colab_type": "code",
        "id": "A9xVvsbi_OOW",
        "colab": {
          "base_uri": "https://localhost:8080/",
          "height": 454
        },
        "outputId": "22588da7-c796-4444-d219-36c96a2bda79"
      },
      "source": [
        "# Define model\n",
        "class CNNModelClass(nn.Module):  # 使用 torch.nn 來建構神經網路\n",
        "  def __init__(self, NumClasses):\n",
        "    super(CNNModelClass, self).__init__()\n",
        "    # # Convolution 1, input_shape=(1,28,28)\n",
        "    self.features = nn.Sequential(\n",
        "      nn.Conv2d(in_channels=1,  # input height\n",
        "           out_channels=32,  # n_filters\n",
        "           kernel_size=3,   # filter size\n",
        "           stride=1,     # filter movement/step\n",
        "           padding=1     # if want same width and length of this image after con2d, padding=(kernel_size-1)/2 if stride=1\n",
        "      ),\n",
        "      nn.BatchNorm2d(num_features=32),\n",
        "      nn.ReLU(),\n",
        "      nn.MaxPool2d(kernel_size=2, stride=2, padding=0),  # output_shape=(32,14,14)\n",
        "      nn.Conv2d(in_channels=32, out_channels=64, kernel_size=3, stride=1, padding=1),  # input_shape=(32,14,14)\n",
        "      nn.BatchNorm2d(num_features=64),\n",
        "      nn.ReLU(),\n",
        "      nn.MaxPool2d(kernel_size=2, stride=2, padding=0),  # output_shape=(64,7,7)\n",
        "      nn.Conv2d(in_channels=64, out_channels=128, kernel_size=3, stride=1, padding=1),  # input_shape=(64,7,7)\n",
        "      nn.BatchNorm2d(num_features=128),\n",
        "      nn.ReLU(),\n",
        "      nn.MaxPool2d(kernel_size=2, stride=2, padding=0)  # output_shape=(128,4,4)\n",
        "    )\n",
        "    self.avgpool = nn.AdaptiveAvgPool2d((4, 4))\n",
        "    self.drop_out = nn.Dropout2d(p=0.5)\n",
        "    self.fc_drop = nn.Dropout2d(p=0.5)\n",
        "    self.fc = nn.Sequential(\n",
        "      nn.Linear(in_features=128 * 4 * 4, out_features=512),\n",
        "      nn.ReLU(),\n",
        "      nn.Linear(in_features=512, out_features=512),\n",
        "      nn.ReLU(),\n",
        "      nn.Linear(in_features=512, out_features=NumClasses)\n",
        "    )\n",
        "\n",
        "  def forward(self, x):\n",
        "    x = self.features(x)\n",
        "    x = self.avgpool(x)\n",
        "    x = torch.flatten(x, 1)\n",
        "    x = x.view(-1, 128 * 4 * 4)\n",
        "    # x = self.drop_out(x)\n",
        "    x = self.fc(x)\n",
        "    # x = self.fc_drop(x)\n",
        "    return x\n",
        "\n",
        "  def num_flat_features(self, x):\n",
        "    size = x.size()[1:]\n",
        "    num_features = 1\n",
        "    for s in size:\n",
        "        num_features *= s\n",
        "    return num_features\n",
        "\n",
        "\n",
        "NumClasses = 10\n",
        "# Initialize model\n",
        "model = CNNModelClass(NumClasses).to(device)\n",
        "print(model)  # 列印結構"
      ],
      "execution_count": 7,
      "outputs": [
        {
          "output_type": "stream",
          "text": [
            "CNNModelClass(\n",
            "  (features): Sequential(\n",
            "    (0): Conv2d(1, 32, kernel_size=(3, 3), stride=(1, 1), padding=(1, 1))\n",
            "    (1): BatchNorm2d(32, eps=1e-05, momentum=0.1, affine=True, track_running_stats=True)\n",
            "    (2): ReLU()\n",
            "    (3): MaxPool2d(kernel_size=2, stride=2, padding=0, dilation=1, ceil_mode=False)\n",
            "    (4): Conv2d(32, 64, kernel_size=(3, 3), stride=(1, 1), padding=(1, 1))\n",
            "    (5): BatchNorm2d(64, eps=1e-05, momentum=0.1, affine=True, track_running_stats=True)\n",
            "    (6): ReLU()\n",
            "    (7): MaxPool2d(kernel_size=2, stride=2, padding=0, dilation=1, ceil_mode=False)\n",
            "    (8): Conv2d(64, 128, kernel_size=(3, 3), stride=(1, 1), padding=(1, 1))\n",
            "    (9): BatchNorm2d(128, eps=1e-05, momentum=0.1, affine=True, track_running_stats=True)\n",
            "    (10): ReLU()\n",
            "    (11): MaxPool2d(kernel_size=2, stride=2, padding=0, dilation=1, ceil_mode=False)\n",
            "  )\n",
            "  (avgpool): AdaptiveAvgPool2d(output_size=(4, 4))\n",
            "  (drop_out): Dropout2d(p=0.5, inplace=False)\n",
            "  (fc_drop): Dropout2d(p=0.5, inplace=False)\n",
            "  (fc): Sequential(\n",
            "    (0): Linear(in_features=2048, out_features=512, bias=True)\n",
            "    (1): ReLU()\n",
            "    (2): Linear(in_features=512, out_features=512, bias=True)\n",
            "    (3): ReLU()\n",
            "    (4): Linear(in_features=512, out_features=10, bias=True)\n",
            "  )\n",
            ")\n"
          ],
          "name": "stdout"
        }
      ]
    },
    {
      "cell_type": "markdown",
      "metadata": {
        "id": "Fc_0TRv5Knd5",
        "colab_type": "text"
      },
      "source": [
        "\n",
        "\n",
        "---\n",
        "\n",
        "\n",
        "**Dimension Calculations**\n",
        "\n",
        "* $O=\\frac{W−K+2\\times P}{S}+1$\n",
        "> * O: output height/length\n",
        "> * W: input height/length\n",
        "> * K: filter size(kernel size)\n",
        "> * P: padding, $P=\\frac{K−1}{2}$\n",
        "> * S: stride"
      ]
    },
    {
      "cell_type": "markdown",
      "metadata": {
        "id": "5PqVaSBhI5mn",
        "colab_type": "text"
      },
      "source": [
        "![Model](https://www.deeplearningwizard.com/deep_learning/practical_pytorch/images/cnn10-2n.png)"
      ]
    },
    {
      "cell_type": "code",
      "metadata": {
        "id": "6y7CxvH9VXuz",
        "colab_type": "code",
        "colab": {
          "base_uri": "https://localhost:8080/",
          "height": 538
        },
        "outputId": "2df5d18c-6111-42fd-f114-62fd7eef2367"
      },
      "source": [
        "# 查看模型每層輸出細節, MNIST=(C,H,W)=(1,28,28)\n",
        "Channels = 1\n",
        "Height = 28\n",
        "Width = 28\n",
        "summary(model, input_size=(Channels, Height, Width), batch_size=BatchSize)"
      ],
      "execution_count": 8,
      "outputs": [
        {
          "output_type": "stream",
          "text": [
            "----------------------------------------------------------------\n",
            "        Layer (type)               Output Shape         Param #\n",
            "================================================================\n",
            "            Conv2d-1           [16, 32, 28, 28]             320\n",
            "       BatchNorm2d-2           [16, 32, 28, 28]              64\n",
            "              ReLU-3           [16, 32, 28, 28]               0\n",
            "         MaxPool2d-4           [16, 32, 14, 14]               0\n",
            "            Conv2d-5           [16, 64, 14, 14]          18,496\n",
            "       BatchNorm2d-6           [16, 64, 14, 14]             128\n",
            "              ReLU-7           [16, 64, 14, 14]               0\n",
            "         MaxPool2d-8             [16, 64, 7, 7]               0\n",
            "            Conv2d-9            [16, 128, 7, 7]          73,856\n",
            "      BatchNorm2d-10            [16, 128, 7, 7]             256\n",
            "             ReLU-11            [16, 128, 7, 7]               0\n",
            "        MaxPool2d-12            [16, 128, 3, 3]               0\n",
            "AdaptiveAvgPool2d-13            [16, 128, 4, 4]               0\n",
            "           Linear-14                  [16, 512]       1,049,088\n",
            "             ReLU-15                  [16, 512]               0\n",
            "           Linear-16                  [16, 512]         262,656\n",
            "             ReLU-17                  [16, 512]               0\n",
            "           Linear-18                   [16, 10]           5,130\n",
            "================================================================\n",
            "Total params: 1,409,994\n",
            "Trainable params: 1,409,994\n",
            "Non-trainable params: 0\n",
            "----------------------------------------------------------------\n",
            "Input size (MB): 0.05\n",
            "Forward/backward pass size (MB): 17.87\n",
            "Params size (MB): 5.38\n",
            "Estimated Total Size (MB): 23.29\n",
            "----------------------------------------------------------------\n"
          ],
          "name": "stdout"
        }
      ]
    },
    {
      "cell_type": "code",
      "metadata": {
        "id": "hYHvZOAlSl8U",
        "colab_type": "code",
        "colab": {
          "base_uri": "https://localhost:8080/",
          "height": 67
        },
        "outputId": "84647de4-2210-412f-9ffd-1a3f14cf5ec9"
      },
      "source": [
        "# Counting number parameters in a CNN model\n",
        "def count_model_layers(model):\n",
        "  conv = 0\n",
        "  fc = 0\n",
        "  for layer in model.modules():\n",
        "    if isinstance(layer, nn.Conv2d):\n",
        "      conv += 1\n",
        "    elif isinstance(layer, nn.Linear):\n",
        "      fc += 1\n",
        "\n",
        "  return conv, fc\n",
        "\n",
        "num_parameters = sum(torch.numel(parameter) for parameter in model.parameters())\n",
        "print('Model Params: %.2f M' % (num_parameters / 1e6))\n",
        "print('Model: Convolutional layer: %s + Fully connected layer: %s' % count_model_layers(model))\n",
        "\n",
        "params = list(model.parameters())\n",
        "print(len(params))  # 列印層數\n",
        "\n",
        "# for name, parameters in model.named_parameters():\n",
        "  # print(name, ':', parameters.size())"
      ],
      "execution_count": 9,
      "outputs": [
        {
          "output_type": "stream",
          "text": [
            "Model Params: 1.41 M\n",
            "Model: Convolutional layer: 3 + Fully connected layer: 3\n",
            "18\n"
          ],
          "name": "stdout"
        }
      ]
    },
    {
      "cell_type": "markdown",
      "metadata": {
        "id": "qCVL-sDUOTNl",
        "colab_type": "text"
      },
      "source": [
        "\n",
        "\n",
        "---\n",
        "\n",
        "\n",
        "![AdaBound](https://camo.githubusercontent.com/6e32dcc3e881e2c28786f8b628dcfa2b8d27317f/68747470733a2f2f7777772e6c756f6c632e636f6d2f6173736574732f72657365617263682f616461626f756e642f616461626f756e642d62616e6e65722e706e67)"
      ]
    },
    {
      "cell_type": "markdown",
      "metadata": {
        "id": "YzYeB-9arYi5",
        "colab_type": "text"
      },
      "source": [
        "# **6. 設定CNN參數**(Epoch, Learning Rate, Loss function, Optimizer)"
      ]
    },
    {
      "cell_type": "code",
      "metadata": {
        "id": "lPVuAfm6_4Kd",
        "colab_type": "code",
        "colab": {}
      },
      "source": [
        "# Parameters\n",
        "Epoch = 3  # 訓練的迭代次數\n",
        "LearningRate = 0.001  # Learning rate，反向傳播的學習率\n",
        "Criterion = nn.CrossEntropyLoss()  # 損失函數(Loss function)\n",
        "\n",
        "# Initialize optimizer\n",
        "# Optimizer = optim.Adam(model.parameters(), lr=LearningRate)  # 優化器optimize all cnn parameters\n",
        "Optimizer = optim.AdaBound(model.parameters(), lr=LearningRate, betas=(0.9, 0.999), final_lr=0.1, gamma=1e-3, eps=1e-8, weight_decay=0, amsbound=False)\n",
        "\n",
        "# change learning rate schedule\n",
        "Scheduler = lr_scheduler.StepLR(Optimizer, 10, 0.1)  # for each 10 epoch, learning rate x 0.1"
      ],
      "execution_count": 10,
      "outputs": []
    },
    {
      "cell_type": "code",
      "metadata": {
        "id": "M_kmxs_V3qZd",
        "colab_type": "code",
        "colab": {
          "base_uri": "https://localhost:8080/",
          "height": 558
        },
        "outputId": "3549b3cb-93af-47d9-948e-295bcc4e6ca3"
      },
      "source": [
        "# Print model's state_dict\n",
        "print('Model\\'s state_dict:')\n",
        "for param_tensor in model.state_dict():\n",
        "  print(param_tensor, '\\t', model.state_dict()[param_tensor].size())\n",
        "\n",
        "# Print optimizer's state_dict\n",
        "print('Optimizer\\'s state_dict:')\n",
        "for var_name in Optimizer.state_dict():\n",
        "  print(var_name, '\\t', Optimizer.state_dict()[var_name])"
      ],
      "execution_count": 11,
      "outputs": [
        {
          "output_type": "stream",
          "text": [
            "Model's state_dict:\n",
            "features.0.weight \t torch.Size([32, 1, 3, 3])\n",
            "features.0.bias \t torch.Size([32])\n",
            "features.1.weight \t torch.Size([32])\n",
            "features.1.bias \t torch.Size([32])\n",
            "features.1.running_mean \t torch.Size([32])\n",
            "features.1.running_var \t torch.Size([32])\n",
            "features.1.num_batches_tracked \t torch.Size([])\n",
            "features.4.weight \t torch.Size([64, 32, 3, 3])\n",
            "features.4.bias \t torch.Size([64])\n",
            "features.5.weight \t torch.Size([64])\n",
            "features.5.bias \t torch.Size([64])\n",
            "features.5.running_mean \t torch.Size([64])\n",
            "features.5.running_var \t torch.Size([64])\n",
            "features.5.num_batches_tracked \t torch.Size([])\n",
            "features.8.weight \t torch.Size([128, 64, 3, 3])\n",
            "features.8.bias \t torch.Size([128])\n",
            "features.9.weight \t torch.Size([128])\n",
            "features.9.bias \t torch.Size([128])\n",
            "features.9.running_mean \t torch.Size([128])\n",
            "features.9.running_var \t torch.Size([128])\n",
            "features.9.num_batches_tracked \t torch.Size([])\n",
            "fc.0.weight \t torch.Size([512, 2048])\n",
            "fc.0.bias \t torch.Size([512])\n",
            "fc.2.weight \t torch.Size([512, 512])\n",
            "fc.2.bias \t torch.Size([512])\n",
            "fc.4.weight \t torch.Size([10, 512])\n",
            "fc.4.bias \t torch.Size([10])\n",
            "Optimizer's state_dict:\n",
            "state \t {}\n",
            "param_groups \t [{'lr': 0.001, 'betas': (0.9, 0.999), 'final_lr': 0.1, 'gamma': 0.001, 'eps': 1e-08, 'weight_decay': 0, 'amsbound': False, 'initial_lr': 0.001, 'params': [0, 1, 2, 3, 4, 5, 6, 7, 8, 9, 10, 11, 12, 13, 14, 15, 16, 17]}]\n"
          ],
          "name": "stdout"
        }
      ]
    },
    {
      "cell_type": "markdown",
      "metadata": {
        "id": "LKGoFCS1PZkV",
        "colab_type": "text"
      },
      "source": [
        "\n",
        "\n",
        "---\n",
        "\n",
        "\n",
        "![Training](https://2.bp.blogspot.com/-lo4ANmafiQM/WVpEeo68VPI/AAAAAAAAWxE/7FJBUGp-GrQFL5fUYEg6tQAJWXUHrtgWgCLcBGAs/s1600/3812_1.png)"
      ]
    },
    {
      "cell_type": "markdown",
      "metadata": {
        "id": "-N4ZKnOTriEz",
        "colab_type": "text"
      },
      "source": [
        "# **7. 訓練**(checkpoint)**CNN模型**(計算Accuracy, Loss並顯示結果)\n",
        "# **8. 預測CNN模型**(計算Accuracy, Loss並顯示結果)"
      ]
    },
    {
      "cell_type": "code",
      "metadata": {
        "colab_type": "code",
        "id": "5rCbnfZ3VDuN",
        "colab": {
          "base_uri": "https://localhost:8080/",
          "height": 306
        },
        "outputId": "6088aafe-679c-4270-e95c-b0594aa43240"
      },
      "source": [
        "# Train、Validation\n",
        "def training_net(Epoch, trainLoader, Criterion, Optimizer, PATHcp):\n",
        "  if start_epoch == 0:\n",
        "    training_loss = []\n",
        "    validing_loss = []\n",
        "    training_accuracy = []\n",
        "    validing_accuracy = []\n",
        "  else:\n",
        "    checkpoint = torch.load(PATHcp, map_location='cpu')\n",
        "    training_loss = checkpoint['training_loss']\n",
        "    validing_loss = checkpoint['validing_loss']\n",
        "    training_accuracy = checkpoint['training_accuracy']\n",
        "    validing_accuracy = checkpoint['validing_accuracy']\n",
        "\n",
        "  for epoch in range(start_epoch, Epoch):\n",
        "    Scheduler.step()\n",
        "    train_start = time.time()\n",
        "    train_losss = 0.0\n",
        "    t_loss = 0.0\n",
        "    train_correct = 0\n",
        "    train_total = 0\n",
        "    model.train()\n",
        "    for times, tdata in enumerate(TrainLoader):\n",
        "      tinputs, tlabels = tdata[0].to(device), tdata[1].to(device)\n",
        "\n",
        "      # 反向傳播(Backward propagation), 計算loss function更新模型的權重\n",
        "      # Zero the parameter gradients, 將參數、梯度緩衝區歸零\n",
        "      Optimizer.zero_grad()\n",
        "\n",
        "      # Foward + backward + optimize\n",
        "      toutputs = model(tinputs)\n",
        "      _, predicted = torch.max(toutputs.data, 1)\n",
        "      train_total += tlabels.size(0)\n",
        "      train_correct += (predicted == tlabels).sum().item()\n",
        "\n",
        "      train_loss = Criterion(toutputs, tlabels)\n",
        "      train_loss.backward()\n",
        "      train_accuracy = 100 * train_correct / float(train_total)\n",
        "      train_losss += train_loss.item()\n",
        "      t_loss = train_losss / (float(train_total) / BatchSize)\n",
        "\n",
        "      Optimizer.step()\n",
        "\n",
        "    training_accuracy.append(train_accuracy)\n",
        "    training_loss.append(t_loss)\n",
        "    # Print statistics\n",
        "    print('Epoch: [%d/%d, %d/%d] - <Train>, loss: %.6f, accuracy: %.4f %%, duration: %.4f sec' % (\n",
        "        (epoch + 1),\n",
        "        Epoch,\n",
        "        (times + 1),\n",
        "        len(TrainLoader),\n",
        "        t_loss,\n",
        "        train_accuracy,\n",
        "        (time.time() - train_start))\n",
        "    )\n",
        "\n",
        "    valid_start = time.time()\n",
        "    valid_losss = 0.0\n",
        "    v_loss = 0.0\n",
        "    valid_correct = 0\n",
        "    valid_total = 0\n",
        "    model.eval()\n",
        "    for times, vdata in enumerate(ValidLoader):\n",
        "      vinputs, vlabels = vdata[0].to(device), vdata[1].to(device)\n",
        "      voutputs = model(vinputs)\n",
        "      _, predicted = torch.max(voutputs.data, 1)\n",
        "      valid_total += vlabels.size(0)\n",
        "      valid_correct += (predicted == vlabels).sum().item()\n",
        "      valid_loss = Criterion(voutputs, vlabels)\n",
        "      valid_accuracy = 100 * valid_correct / float(valid_total)\n",
        "      valid_losss += valid_loss.item()\n",
        "      v_loss = valid_losss / (float(valid_total) / BatchSize)\n",
        "\n",
        "    validing_accuracy.append(valid_accuracy)\n",
        "    validing_loss.append(v_loss)\n",
        "    # Print statistics\n",
        "    print('Epoch: [%d/%d, %d/%d] - <Validation>, loss: %.6f, accuracy: %.4f %%, duration: %.4f sec' % (\n",
        "        (epoch + 1),\n",
        "        Epoch,\n",
        "        (times + 1),\n",
        "        len(ValidLoader),\n",
        "        v_loss,\n",
        "        valid_accuracy,\n",
        "        (time.time() - valid_start))\n",
        "    )\n",
        "\n",
        "    # Checkpoint\n",
        "    # print('Checkpoint ...')\n",
        "    torch.save({'optimizer_state_dict': Optimizer.state_dict(),\n",
        "          'model_state_dict': model.state_dict(),\n",
        "          'epoch': epoch + 1,\n",
        "          'training_loss': training_loss,\n",
        "          'validing_loss': validing_loss,\n",
        "          'training_accuracy': training_accuracy,\n",
        "          'validing_accuracy': validing_accuracy}, PATHcp)\n",
        "\n",
        "  return training_loss, training_accuracy, validing_loss, validing_accuracy\n",
        "\n",
        "# Checkpoint\n",
        "PATHcp = './checkpoint.pth'\n",
        "if Checkpoint:\n",
        "  if os.path.exists(PATHcp):\n",
        "    os.remove(PATHcp)\n",
        "\n",
        "if os.path.exists(PATHcp):\n",
        "  print(colored('Restart from checkpoint {}'.format(PATHcp), 'blue'))\n",
        "  checkpoint = torch.load(PATHcp, map_location='cpu')\n",
        "  Optimizer.load_state_dict(checkpoint['optimizer_state_dict'])\n",
        "  model.load_state_dict(checkpoint['model_state_dict'])\n",
        "  if torch.cuda.is_available():\n",
        "    model.cuda()\n",
        "  else:\n",
        "    model = model.cpu()\n",
        "\n",
        "  start_epoch = checkpoint['epoch']\n",
        "  training_loss = checkpoint['training_loss']\n",
        "  validing_loss = checkpoint['validing_loss']\n",
        "  training_accuracy = checkpoint['training_accuracy']\n",
        "  validing_accuracy = checkpoint['validing_accuracy']\n",
        "else:\n",
        "  print(colored('No checkpoint file at {}'.format(PATHcp), 'blue'))\n",
        "  start_epoch = 0\n",
        "  if torch.cuda.is_available():\n",
        "    model = model.cuda()\n",
        "  else:\n",
        "    model = model.cpu()\n",
        "\n",
        "print('Started Training.')\n",
        "training_loss, training_accuracy, validing_loss, validing_accuracy = training_net(Epoch, TrainLoader, Criterion, Optimizer, PATHcp)\n",
        "print('Finished Training.')"
      ],
      "execution_count": 12,
      "outputs": [
        {
          "output_type": "stream",
          "text": [
            "\u001b[34mNo checkpoint file at ./checkpoint.pth\u001b[0m\n",
            "Started Training.\n"
          ],
          "name": "stdout"
        },
        {
          "output_type": "stream",
          "text": [
            "/usr/local/lib/python3.6/dist-packages/torch/optim/lr_scheduler.py:123: UserWarning: Detected call of `lr_scheduler.step()` before `optimizer.step()`. In PyTorch 1.1.0 and later, you should call them in the opposite order: `optimizer.step()` before `lr_scheduler.step()`.  Failure to do this will result in PyTorch skipping the first value of the learning rate schedule. See more details at https://pytorch.org/docs/stable/optim.html#how-to-adjust-learning-rate\n",
            "  \"https://pytorch.org/docs/stable/optim.html#how-to-adjust-learning-rate\", UserWarning)\n",
            "/usr/local/lib/python3.6/dist-packages/torch_optimizer/adabound.py:142: UserWarning: This overload of add_ is deprecated:\n",
            "\tadd_(Number alpha, Tensor other)\n",
            "Consider using one of the following signatures instead:\n",
            "\tadd_(Tensor other, *, Number alpha) (Triggered internally at  /pytorch/torch/csrc/utils/python_arg_parser.cpp:766.)\n",
            "  exp_avg.mul_(beta1).add_(1 - beta1, grad)\n"
          ],
          "name": "stderr"
        },
        {
          "output_type": "stream",
          "text": [
            "Epoch: [1/3, 2625/2625] - <Train>, loss: 0.143331, accuracy: 95.5595 %, duration: 41.6006 sec\n",
            "Epoch: [1/3, 1125/1125] - <Validation>, loss: 0.067589, accuracy: 98.0111 %, duration: 6.3147 sec\n",
            "Epoch: [2/3, 2625/2625] - <Train>, loss: 0.047879, accuracy: 98.5405 %, duration: 41.5228 sec\n",
            "Epoch: [2/3, 1125/1125] - <Validation>, loss: 0.049009, accuracy: 98.6833 %, duration: 6.2777 sec\n",
            "Epoch: [3/3, 2625/2625] - <Train>, loss: 0.029927, accuracy: 99.1024 %, duration: 41.7247 sec\n",
            "Epoch: [3/3, 1125/1125] - <Validation>, loss: 0.044232, accuracy: 98.7722 %, duration: 6.3699 sec\n",
            "Finished Training.\n"
          ],
          "name": "stdout"
        }
      ]
    },
    {
      "cell_type": "code",
      "metadata": {
        "colab_type": "code",
        "id": "TUEEnLZss-GX",
        "colab": {
          "base_uri": "https://localhost:8080/",
          "height": 573
        },
        "outputId": "9631918e-0c15-45e7-933f-9afc78995470"
      },
      "source": [
        "# 訓練、預測結果視覺化(visualization)\n",
        "plt.plot(range(Epoch), training_loss, 'b--', label='Training_loss')\n",
        "plt.plot(range(Epoch), validing_loss, 'g-', label='Validating_loss')\n",
        "plt.title('Training & Validating loss')\n",
        "plt.xlabel('Number of epochs')\n",
        "plt.ylabel('Loss')\n",
        "plt.legend()\n",
        "plt.show()\n",
        "\n",
        "plt.plot(range(Epoch), training_accuracy, 'b--', label='Training_accuracy')\n",
        "plt.plot(range(Epoch), validing_accuracy, 'g-', label='Validating_accuracy')\n",
        "plt.title('Training & Validating accuracy')\n",
        "plt.xlabel('Number of epochs')\n",
        "plt.ylabel('Accuracy')\n",
        "plt.legend()\n",
        "plt.show()"
      ],
      "execution_count": 13,
      "outputs": [
        {
          "output_type": "display_data",
          "data": {
            "image/png": "[encoded data removed]",
            "text/plain": [
              "<Figure size 432x288 with 1 Axes>"
            ]
          },
          "metadata": {
            "tags": [],
            "needs_background": "light"
          }
        },
        {
          "output_type": "display_data",
          "data": {
            "image/png": "[encoded data removed]",
            "text/plain": [
              "<Figure size 432x288 with 1 Axes>"
            ]
          },
          "metadata": {
            "tags": [],
            "needs_background": "light"
          }
        }
      ]
    },
    {
      "cell_type": "markdown",
      "metadata": {
        "id": "XERAYfg-QuX0",
        "colab_type": "text"
      },
      "source": [
        "\n",
        "\n",
        "---\n",
        "\n",
        "\n",
        "![Confusion Matrix](https://2.bp.blogspot.com/-EvSXDotTOwc/XMfeOGZ-CVI/AAAAAAAAEiE/oePFfvhfOQM11dgRn9FkPxlegCXbgOF4QCLcBGAs/s1600/confusionMatrxiUpdated.jpg)\n",
        "![F1 Score](https://4.bp.blogspot.com/-0CJRaFYOJZE/XMfpAkCCKRI/AAAAAAAAEjk/5q7y2hIULvsz62QApm7DOAXuc2u02Sn5wCEwYBhgL/s400/f%2Bscore.jpg)"
      ]
    },
    {
      "cell_type": "markdown",
      "metadata": {
        "id": "sqb96VB7r9w1",
        "colab_type": "text"
      },
      "source": [
        "# **9. 評估CNN模型**-驗證指標(Validation index): 混淆矩陣(Confusion Matrix)"
      ]
    },
    {
      "cell_type": "code",
      "metadata": {
        "colab_type": "code",
        "id": "68bp4VmegUYw",
        "colab": {
          "base_uri": "https://localhost:8080/",
          "height": 748
        },
        "outputId": "6bdf2b78-6274-4733-8834-25f1023dc9b5"
      },
      "source": [
        "# 混淆矩陣(Confusion Matrix)\n",
        "class_names = ('0', '1', '2', '3', '4', '5', '6', '7', '8', '9')\n",
        "\n",
        "def plot_confusion_matrix(cm, classes, normalize=False, title='Confusion Matrix', cmap=plt.cm.Blues):\n",
        "  if normalize:\n",
        "    cm = cm / cm.sum(axis=1)[:, np.newaxis]\n",
        "  print(title)\n",
        "  # print(cm)\n",
        "\n",
        "  plt.imshow(cm, interpolation='nearest', cmap=cmap)\n",
        "  plt.title(title)\n",
        "  plt.colorbar()\n",
        "  tick_marks = np.arange(len(classes))\n",
        "  plt.xticks(tick_marks, classes, rotation=45)\n",
        "  plt.yticks(tick_marks, classes)\n",
        "\n",
        "  fmt = '.4f' if normalize else 'd'\n",
        "  thresh = cm.max() / 2.\n",
        "  for i, j in itertools.product(range(cm.shape[0]), range(cm.shape[1])):\n",
        "    plt.text(j, i,\n",
        "        format(cm[i, j], fmt),\n",
        "        horizontalalignment='center',\n",
        "        color='white' if cm[i, j] > thresh else 'black')\n",
        "\n",
        "def evaluate(ValidLoader):\n",
        "  confusion_matrix = torch.zeros(NumClasses, NumClasses)\n",
        "  with torch.no_grad():\n",
        "    model.eval()\n",
        "    for inputs, labels in ValidLoader:\n",
        "      inputs = inputs.to(device)\n",
        "      labels = labels.to(device)\n",
        "      outputs = model(inputs) \n",
        "      _, predicted = torch.max(outputs, 1)\n",
        "      for true, pred in zip(labels.view(-1), predicted.view(-1)):\n",
        "        confusion_matrix[true.long(), pred.long()] += 1\n",
        "\n",
        "  # print('Confusion Matrix:\\n{}'.format(confusion_matrix.data.numpy()))\n",
        "  precision = confusion_matrix.diag() / confusion_matrix.sum(1)\n",
        "  print('Precision: {}'.format(precision.data.numpy()))\n",
        "  recall = confusion_matrix.diag() / confusion_matrix.sum(0)\n",
        "  print('Recall: {}'.format(recall.data.numpy()))\n",
        "  f1 = 2 * (precision * recall) / (precision + recall)\n",
        "  print('F1 Score: {}'.format(f1.data.numpy()))\n",
        "  mean = f1.mean()\n",
        "  print('Mean: {:.6f}'.format(mean))\n",
        "\n",
        "  # Plot normalized confusion matrix\n",
        "  plt.figure(figsize=(10, 10))\n",
        "  plot_confusion_matrix(confusion_matrix, classes=class_names, normalize=True, title='Normalized Confusion Matrix')\n",
        "  plt.show()\n",
        "\n",
        "print('Started Evaluating.')\n",
        "evaluate(ValidLoader)\n",
        "print('Finished Evaluating.')"
      ],
      "execution_count": 14,
      "outputs": [
        {
          "output_type": "stream",
          "text": [
            "Started Evaluating.\n",
            "Precision: [0.99435025 0.98805374 0.9803063  0.99001575 0.9881797  0.98350257\n",
            " 0.9983352  0.98090184 0.98714364 0.9862543 ]\n",
            "Recall: [0.9921082  0.9959859  0.99500275 0.99472016 0.98122066 0.99614394\n",
            " 0.9787813  0.9908896  0.983844   0.9679595 ]\n",
            "F1 Score: [0.99322796 0.992004   0.98759985 0.9923623  0.98468786 0.9897829\n",
            " 0.98846155 0.9858704  0.9854911  0.9770212 ]\n",
            "Mean: 0.987651\n",
            "Normalized Confusion Matrix\n"
          ],
          "name": "stdout"
        },
        {
          "output_type": "display_data",
          "data": {
            "image/png": "[encoded data removed]",
            "text/plain": [
              "<Figure size 720x720 with 2 Axes>"
            ]
          },
          "metadata": {
            "tags": [],
            "needs_background": "light"
          }
        },
        {
          "output_type": "stream",
          "text": [
            "Finished Evaluating.\n"
          ],
          "name": "stdout"
        }
      ]
    },
    {
      "cell_type": "markdown",
      "metadata": {
        "id": "C2t8ybjmsEmV",
        "colab_type": "text"
      },
      "source": [
        "# **11. 儲存**(checkpoint)**模型**相關數據"
      ]
    },
    {
      "cell_type": "code",
      "metadata": {
        "id": "P3uzv_9V4ccp",
        "colab_type": "code",
        "colab": {}
      },
      "source": [
        "# Saving a General Checkpoint for Inference and/or Resuming Training\n",
        "# Save final model\n",
        "PATH = './model.pth'\n",
        "torch.save({'epoch': Epoch,\n",
        "      'model_state_dict': model.state_dict(),\n",
        "      'optimizer_state_dict': Optimizer.state_dict(),\n",
        "      'loss': Criterion,\n",
        "      'training_loss': training_loss,\n",
        "      'validing_loss': validing_loss,\n",
        "      'training_accuracy': training_accuracy,\n",
        "      'validing_accuracy': validing_accuracy}, PATH)"
      ],
      "execution_count": 15,
      "outputs": []
    },
    {
      "cell_type": "markdown",
      "metadata": {
        "id": "Q8XdaUgUsPEO",
        "colab_type": "text"
      },
      "source": [
        "# **12. 讀取**(checkpoint)**模型**相關數據"
      ]
    },
    {
      "cell_type": "code",
      "metadata": {
        "id": "o4r2mTFA-VYd",
        "colab_type": "code",
        "colab": {}
      },
      "source": [
        "# Loading a General Checkpoint for Inference and/or Resuming Training\n",
        "model = CNNModelClass(NumClasses).to(device)\n",
        "# optimizer = TheOptimizerClass(*args, **kwargs)\n",
        "checkpoint = torch.load(PATH)\n",
        "model.load_state_dict(checkpoint['model_state_dict'])\n",
        "Optimizer.load_state_dict(checkpoint['optimizer_state_dict'])\n",
        "Epoch = checkpoint['epoch']\n",
        "Criterion = checkpoint['loss']"
      ],
      "execution_count": 16,
      "outputs": []
    },
    {
      "cell_type": "markdown",
      "metadata": {
        "id": "oH4OJR9WSQ8s",
        "colab_type": "text"
      },
      "source": [
        "\n",
        "\n",
        "---\n",
        "\n",
        "\n",
        "![Test](https://research.binus.ac.id/airnd/wp-content/uploads/sites/12/2018/03/ConvNet-1-768x346.png)\n"
      ]
    },
    {
      "cell_type": "markdown",
      "metadata": {
        "id": "K1-HXeL_sY6c",
        "colab_type": "text"
      },
      "source": [
        "# **13. 測試CNN模型**(計算Accuracy, Loss並顯示各類別的結果)"
      ]
    },
    {
      "cell_type": "code",
      "metadata": {
        "id": "R24rvBcNBhPF",
        "colab_type": "code",
        "colab": {
          "base_uri": "https://localhost:8080/",
          "height": 235
        },
        "outputId": "f21049fb-2ba7-4a41-c5cd-0969421c0d50"
      },
      "source": [
        "# Test\n",
        "def testing_net(TestLoader):\n",
        "  test_start = time.time()\n",
        "  test_losss = 0.0\n",
        "  t_loss = 0.0\n",
        "  test_correct = 0\n",
        "  test_total = 0\n",
        "\n",
        "  model.eval()  # 模型評估模式，沒有要繼續訓練模型、而只拿來應用\n",
        "\n",
        "  with torch.no_grad():\n",
        "    for data in TestLoader:\n",
        "      inputs, labels = data\n",
        "      inputs, labels = inputs.to(device), labels.to(device)\n",
        "      outputs = model(inputs)\n",
        "      _, predicted = torch.max(outputs.data, 1)\n",
        "      test_loss = Criterion(outputs, labels)\n",
        "      test_total += labels.size(0)\n",
        "      test_correct += (predicted == labels).sum().item()\n",
        "      test_accuracy = 100 * test_correct / float(test_total)\n",
        "      test_losss += test_loss.item()\n",
        "      t_loss = test_losss / (float(test_total) / BatchSize)\n",
        "\n",
        "    print('Accuracy of the network on the 10000 test images: %.4f %%, loss: %.4f, duration: %.4f sec' % (\n",
        "        test_accuracy,\n",
        "        t_loss,\n",
        "        (time.time() - test_start)\n",
        "        )\n",
        "    )\n",
        "\n",
        "print('Started Testing.')\n",
        "testing_net(TestLoader)\n",
        "print('Finished Testing.')\n",
        "\n",
        "class_correct = [0 for i in range(10)]\n",
        "class_total = [0 for i in range(10)]\n",
        "\n",
        "with torch.no_grad():\n",
        "  model.eval()  # 模型評估模式\n",
        "  for data in TestLoader:\n",
        "    inputs, labels = data[0].to(device), data[1].to(device)\n",
        "\n",
        "    outputs = model(inputs)\n",
        "    _, predicted = torch.max(outputs, 1)\n",
        "    correct = (predicted == labels).squeeze()\n",
        "    for i in range(10):\n",
        "      label = labels[i]\n",
        "      class_correct[label] += correct[i].item()\n",
        "      class_total[label] += 1\n",
        "      # print(class_correct)\n",
        "      # print(class_total)\n",
        "\n",
        "# 列印10個類別的Accuracy\n",
        "for i in range(len(class_total)):\n",
        "  print('Accuracy of class[%d]: %3f' % (i, (class_correct[i] / class_total[i])))"
      ],
      "execution_count": 17,
      "outputs": [
        {
          "output_type": "stream",
          "text": [
            "Started Testing.\n",
            "Accuracy of the network on the 10000 test images: 99.0600 %, loss: 0.0293, duration: 3.4104 sec\n",
            "Finished Testing.\n",
            "Accuracy of class[0]: 0.993517\n",
            "Accuracy of class[1]: 0.990127\n",
            "Accuracy of class[2]: 0.981595\n",
            "Accuracy of class[3]: 0.993610\n",
            "Accuracy of class[4]: 0.993721\n",
            "Accuracy of class[5]: 0.986989\n",
            "Accuracy of class[6]: 0.991497\n",
            "Accuracy of class[7]: 0.987055\n",
            "Accuracy of class[8]: 0.990244\n",
            "Accuracy of class[9]: 0.990769\n"
          ],
          "name": "stdout"
        }
      ]
    },
    {
      "cell_type": "code",
      "metadata": {
        "id": "bf08ndI4JH7A",
        "colab_type": "code",
        "colab": {
          "base_uri": "https://localhost:8080/",
          "height": 34
        },
        "outputId": "b597200c-b1b4-428f-e714-8b2259394e86"
      },
      "source": [
        "# 只測試一張圖片\n",
        "correct = 0\n",
        "total = 0\n",
        "num = 1000  # 第1000張圖片\n",
        "\n",
        "model.eval()  # 模型評估模式，沒有要繼續訓練模型、而只拿來應用\n",
        "\n",
        "with torch.no_grad():\n",
        "  for data in Test10kLoader:\n",
        "    inputs, labels = data\n",
        "    inputs, labels = inputs.to(device), labels.to(device)\n",
        "    inputs = inputs[num].view((-1,1,28,28), -1)\n",
        "    outputs = model(inputs)\n",
        "    _, predicted = torch.max(outputs.data, 1)\n",
        "    total += 1\n",
        "    correct += (predicted == labels[num]).sum().item()\n",
        "    break\n",
        "\n",
        "print('Accuracy of the network on the #%d test image: %f %% -> [predict: %d, label: %d]' % (\n",
        "    num,\n",
        "    (100 * correct / total),\n",
        "    predicted,\n",
        "    labels[num]\n",
        "    )\n",
        ")"
      ],
      "execution_count": 18,
      "outputs": [
        {
          "output_type": "stream",
          "text": [
            "Accuracy of the network on the #1000 test image: 100.000000 % -> [predict: 9, label: 9]\n"
          ],
          "name": "stdout"
        }
      ]
    },
    {
      "cell_type": "code",
      "metadata": {
        "id": "SoAlPYhWIFLh",
        "colab_type": "code",
        "colab": {
          "base_uri": "https://localhost:8080/",
          "height": 112
        },
        "outputId": "1136018b-7561-49d2-d186-97b0795275d4"
      },
      "source": [
        "# Test the network on the test data\n",
        "# functions to show an image\n",
        "def imshow(img):\n",
        "  img = img / 2 + 0.5  # unnormalize\n",
        "  npimg = img.numpy()\n",
        "  plt.imshow(np.transpose(npimg, (1, 2, 0)))\n",
        "  plt.show()\n",
        "\n",
        "\n",
        "dataiter = iter(TestLoader)\n",
        "images, labels = dataiter.next()\n",
        "\n",
        "# print images\n",
        "imshow(utils.make_grid(images[:8]))\n",
        "print('GroundTruth:', ''.join('%3s' % class_names[labels[j]] for j in range(8)))"
      ],
      "execution_count": 19,
      "outputs": [
        {
          "output_type": "display_data",
          "data": {
            "image/png": "[encoded data removed]",
            "text/plain": [
              "<Figure size 432x288 with 1 Axes>"
            ]
          },
          "metadata": {
            "tags": [],
            "needs_background": "light"
          }
        },
        {
          "output_type": "stream",
          "text": [
            "GroundTruth:   7  2  1  0  4  1  4  9\n"
          ],
          "name": "stdout"
        }
      ]
    },
    {
      "cell_type": "code",
      "metadata": {
        "id": "ZH5la88-AMkC",
        "colab_type": "code",
        "colab": {
          "base_uri": "https://localhost:8080/",
          "height": 34
        },
        "outputId": "521db506-6d36-4a68-fd4b-b6039fe4006a"
      },
      "source": [
        "# Elapsed time\n",
        "print('The elapsed time(ET) of this CNN model: [%.4f sec]' % (time.time() - model_start))"
      ],
      "execution_count": 20,
      "outputs": [
        {
          "output_type": "stream",
          "text": [
            "The elapsed time(ET) of this CNN model: [165.7734 sec]\n"
          ],
          "name": "stdout"
        }
      ]
    }
  ]
}