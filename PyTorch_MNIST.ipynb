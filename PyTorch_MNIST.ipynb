{
  "nbformat": 4,
  "nbformat_minor": 0,
  "metadata": {
    "colab": {
      "name": "PyTorch_MNIST.ipynb",
      "provenance": [],
      "collapsed_sections": [],
      "authorship_tag": "ABX9TyN2PhvVWN/jeGe2MeAhbBa/",
      "include_colab_link": true
    },
    "kernelspec": {
      "name": "python3",
      "display_name": "Python 3"
    },
    "accelerator": "GPU"
  },
  "cells": [
    {
      "cell_type": "markdown",
      "metadata": {
        "id": "view-in-github",
        "colab_type": "text"
      },
      "source": [
        "<a href=\"https://colab.research.google.com/github/dvsseed/PyTorch_CNN_MNIST/blob/master/PyTorch_MNIST.ipynb\" target=\"_parent\"><img src=\"https://colab.research.google.com/assets/colab-badge.svg\" alt=\"Open In Colab\"/></a>"
      ]
    },
    {
      "cell_type": "markdown",
      "metadata": {
        "id": "zYcXKyOr7nRl",
        "colab_type": "text"
      },
      "source": [
        "# CNN—PyTorch—MNIST @Date:2020-08-12\n",
        "##### *以下示範碼執行所需時間約100秒*\n",
        "---\n",
        "\n"
      ]
    },
    {
      "cell_type": "markdown",
      "metadata": {
        "id": "pwTLu5bBY_x-",
        "colab_type": "text"
      },
      "source": [
        "![Coding Style](https://4.bp.blogspot.com/-0pYHjZbv-48/Wkc5cPmrXDI/AAAAAAAAHkM/H2hnkggGlT83-B81ofzNZygpZNlqBcO9ACLcBGAs/s640/paradigm_shift.jpg)"
      ]
    },
    {
      "cell_type": "markdown",
      "metadata": {
        "id": "UIaEBSbgOk5e",
        "colab_type": "text"
      },
      "source": [
        "**CNN--PyTorch Coding**\n",
        "1. 匯入套件\n",
        "2. 使用GPU(加速)或CPU\n",
        "3. 圖片轉換(預處理)\n",
        "4. 準備資料集(MNIST)：Train(42,000)、Validation(18,000)、Test(10,000)\n",
        "5. 建立CNN模型(2Conv+3FC)\n",
        "6. 設定CNN參數(Epochs, Learning Rate, Loss function, Optimizer)\n",
        "7. 訓練CNN模型(計算Accuracy, Loss並顯示結果)\n",
        "8. 預測CNN模型(計算Accuracy, Loss並顯示結果)\n",
        "9. 評估CNN模型-驗證指標(Validation index): 混淆矩陣(Confusion Matrix)\n",
        "10. 調參優化\n",
        "11. 儲存模型相關數據\n",
        "12. 讀取模型相關數據\n",
        "13. 測試CNN模型(計算Accuracy, Loss並顯示各類別的結果)\n",
        "\n",
        "---\n",
        "\n",
        "\n"
      ]
    },
    {
      "cell_type": "markdown",
      "metadata": {
        "id": "wwufO5vTEZnU",
        "colab_type": "text"
      },
      "source": [
        "![Packages](https://manalelaidouni.github.io/assets/img/pexels/Pytorch-package-hierarchy.jpg)\n",
        "\n",
        "---\n",
        "\n"
      ]
    },
    {
      "cell_type": "code",
      "metadata": {
        "colab_type": "code",
        "id": "n55IKIvC55w5",
        "colab": {}
      },
      "source": [
        "# -*- coding: utf-8 -*-\n",
        "# 匯入套件(Import Libraries)\n",
        "import torch\n",
        "import torch.nn as nn\n",
        "import torch.optim as optim\n",
        "import torch.utils.data as dset\n",
        "import torch.nn.functional as F\n",
        "from torchvision import datasets, transforms, utils\n",
        "import matplotlib.pyplot as plt\n",
        "import numpy as np\n",
        "from sklearn.metrics import confusion_matrix\n",
        "import time"
      ],
      "execution_count": 1,
      "outputs": []
    },
    {
      "cell_type": "markdown",
      "metadata": {
        "id": "cEnbeMu1FSti",
        "colab_type": "text"
      },
      "source": [
        "\n",
        "\n",
        "---\n",
        "\n",
        "\n",
        "![PyTorch](https://miro.medium.com/max/864/0*dp6NCTWXmbelZwBd)"
      ]
    },
    {
      "cell_type": "code",
      "metadata": {
        "id": "tlwz9xQ6SKuB",
        "colab_type": "code",
        "colab": {
          "base_uri": "https://localhost:8080/",
          "height": 67
        },
        "outputId": "ea9b9cbf-668a-4e01-b241-343d1f864963"
      },
      "source": [
        "print('PyTorch version:', torch.__version__)  # PyTorch version\n",
        "print('CUDA version:', torch.version.cuda)  # Corresponding CUDA version\n",
        "print('cuDNN version:', torch.backends.cudnn.version())  # Corresponding cuDNN version"
      ],
      "execution_count": 2,
      "outputs": [
        {
          "output_type": "stream",
          "text": [
            "PyTorch version: 1.6.0+cu101\n",
            "CUDA version: 10.1\n",
            "cuDNN version: 7603\n"
          ],
          "name": "stdout"
        }
      ]
    },
    {
      "cell_type": "markdown",
      "metadata": {
        "id": "Z_JkPhuqFdZ4",
        "colab_type": "text"
      },
      "source": [
        "\n",
        "\n",
        "---\n",
        "\n",
        "\n",
        "![CUDA](https://upload.wikimedia.org/wikipedia/commons/5/59/CUDA.png)"
      ]
    },
    {
      "cell_type": "code",
      "metadata": {
        "id": "484k9_3E8XQn",
        "colab_type": "code",
        "colab": {
          "base_uri": "https://localhost:8080/",
          "height": 84
        },
        "outputId": "e0c378fd-1dc7-4807-bfde-e6f7fe201c5c"
      },
      "source": [
        "# How many GPUs are there?\n",
        "print('GPUs:', torch.cuda.device_count())\n",
        "\n",
        "# Which GPU Is The Current GPU?\n",
        "print('GPU device:', torch.cuda.current_device())\n",
        "\n",
        "# Get the name of the current GPU\n",
        "print('GPU name:', torch.cuda.get_device_name(torch.cuda.current_device()))\n",
        "\n",
        "# 確認 GPU 是否可用\n",
        "device = 'cuda:0' if torch.cuda.is_available() else 'cpu'\n",
        "print('GPU State:', device)"
      ],
      "execution_count": 3,
      "outputs": [
        {
          "output_type": "stream",
          "text": [
            "GPUs: 1\n",
            "GPU device: 0\n",
            "GPU name: Tesla T4\n",
            "GPU State: cuda:0\n"
          ],
          "name": "stdout"
        }
      ]
    },
    {
      "cell_type": "markdown",
      "metadata": {
        "id": "m2jDmBtHFzzO",
        "colab_type": "text"
      },
      "source": [
        "\n",
        "\n",
        "---\n",
        "\n",
        "\n",
        "![Image transform](https://www.cse.iitb.ac.in/~vkaushal/talk/auto-augment/featured_huc5f6bfa335655300e966e45366a24701_359424_720x0_resize_lanczos_2.png)"
      ]
    },
    {
      "cell_type": "code",
      "metadata": {
        "id": "Agey2Hm48tY3",
        "colab_type": "code",
        "colab": {}
      },
      "source": [
        "# 圖片的轉換(Transform)\n",
        "Transform = transforms.Compose(\n",
        "  [\n",
        "   transforms.ToTensor(),  # 轉成 Tensor 型態\n",
        "   transforms.Normalize((0.5,), (0.5,)),  # 正規化\n",
        "  ]\n",
        ")"
      ],
      "execution_count": 4,
      "outputs": []
    },
    {
      "cell_type": "markdown",
      "metadata": {
        "id": "UljbzXomGYTq",
        "colab_type": "text"
      },
      "source": [
        "\n",
        "\n",
        "---\n",
        "\n",
        "\n",
        "![MNIST](https://jason-chen-1992.weebly.com/uploads/1/0/8/5/108557741/example-images-from-the-mnist-dataset_orig.png)"
      ]
    },
    {
      "cell_type": "code",
      "metadata": {
        "id": "QE5bIq2M9eqd",
        "colab_type": "code",
        "colab": {}
      },
      "source": [
        "# 資料集(Dataset)\n",
        "BatchSize = 16\n",
        "\n",
        "TrainSet0 = datasets.MNIST(root='MNIST', download=True, train=True, transform=Transform)\n",
        "TestSet = datasets.MNIST(root='MNIST', download=True, train=False, transform=Transform)\n",
        "\n",
        "# 切分70%當作訓練集、30%當作驗證集\n",
        "train_size = int(0.7 * len(TrainSet0))\n",
        "valid_size = len(TrainSet0) - train_size\n",
        "TrainSet, ValidSet = torch.utils.data.random_split(TrainSet0, [train_size, valid_size])\n",
        "\n",
        "TrainLoader = dset.DataLoader(TrainSet, batch_size=BatchSize, shuffle=True)  # 打亂數據則將shuffle=True\n",
        "ValidLoader = dset.DataLoader(ValidSet, batch_size=BatchSize, shuffle=True)\n",
        "TestLoader = dset.DataLoader(TestSet, batch_size=BatchSize, shuffle=False)\n",
        "Test10kLoader = dset.DataLoader(TestSet, batch_size=len(TestSet), shuffle=False)"
      ],
      "execution_count": 5,
      "outputs": []
    },
    {
      "cell_type": "markdown",
      "metadata": {
        "id": "5Ib3L_vNHLEM",
        "colab_type": "text"
      },
      "source": [
        "\n",
        "\n",
        "---\n",
        "\n",
        "\n",
        "![CNN](https://jason-chen-1992.weebly.com/uploads/1/0/8/5/108557741/dnn-for-mnist_1_orig.png)"
      ]
    },
    {
      "cell_type": "code",
      "metadata": {
        "colab_type": "code",
        "id": "A9xVvsbi_OOW",
        "colab": {
          "base_uri": "https://localhost:8080/",
          "height": 353
        },
        "outputId": "95d3b37d-cd0e-4237-80ff-3b37267499d7"
      },
      "source": [
        "# 建立CNN模型(Model)的架構\n",
        "class Net(nn.Module):  # 使用 torch.nn 來建構神經網路\n",
        "  def __init__(self, NumClasses):\n",
        "    super(Net, self).__init__()\n",
        "    # # Convolution 1, input_shape=(1,28,28)\n",
        "    self.features = nn.Sequential(\n",
        "      nn.Conv2d(in_channels=1,  # input height\n",
        "           out_channels=32,  # n_filters\n",
        "           kernel_size=3,   # filter size\n",
        "           stride=1,     # filter movement/step\n",
        "           padding=1     # if want same width and length of this image after con2d, padding=(kernel_size-1)/2 if stride=1\n",
        "      ),\n",
        "      nn.BatchNorm2d(num_features=32),\n",
        "      nn.ReLU(),\n",
        "      nn.MaxPool2d(kernel_size=2, stride=2, padding=0),  # output_shape=(32,14,14)\n",
        "      nn.Conv2d(in_channels=32, out_channels=64, kernel_size=3, stride=1, padding=1),  # input_shape=(32,14,14)\n",
        "      nn.BatchNorm2d(num_features=64),\n",
        "      nn.ReLU(),\n",
        "      nn.MaxPool2d(kernel_size=2, stride=2, padding=0)  # output_shape=(64,7,7)\n",
        "    )\n",
        "    self.avgpool = nn.AdaptiveAvgPool2d((7, 7))\n",
        "    # self.drop_out = nn.Dropout2d(p=0.5)\n",
        "    # self.fc_drop = nn.Dropout2d(p=0.5)\n",
        "    self.fc = nn.Sequential(\n",
        "      nn.Linear(in_features=64*7*7, out_features=128),\n",
        "      nn.ReLU(),\n",
        "      nn.Linear(in_features=128, out_features=64),\n",
        "      nn.ReLU(),\n",
        "      nn.Linear(in_features=64, out_features=NumClasses)\n",
        "    )\n",
        "\n",
        "  def forward(self, x):\n",
        "    out = self.features(x)\n",
        "    out = self.avgpool(out)\n",
        "    out = torch.flatten(out, 1)\n",
        "    out = out.view(x.size(0), -1)\n",
        "    # out = self.drop_out(out)\n",
        "    out = self.fc(out)\n",
        "    # out = self.fc_drop(out)\n",
        "    return F.log_softmax(out, dim=1)\n",
        "\n",
        "  def num_flat_features(self, x):\n",
        "    size = x.size()[1:]\n",
        "    num_features = 1\n",
        "    for s in size:\n",
        "        num_features *= s\n",
        "    return num_features\n",
        "\n",
        "\n",
        "NumClasses = 10\n",
        "Cnn = Net(NumClasses).to(device)\n",
        "print(Cnn)  # 列印結構"
      ],
      "execution_count": 6,
      "outputs": [
        {
          "output_type": "stream",
          "text": [
            "Net(\n",
            "  (features): Sequential(\n",
            "    (0): Conv2d(1, 32, kernel_size=(3, 3), stride=(1, 1), padding=(1, 1))\n",
            "    (1): BatchNorm2d(32, eps=1e-05, momentum=0.1, affine=True, track_running_stats=True)\n",
            "    (2): ReLU()\n",
            "    (3): MaxPool2d(kernel_size=2, stride=2, padding=0, dilation=1, ceil_mode=False)\n",
            "    (4): Conv2d(32, 64, kernel_size=(3, 3), stride=(1, 1), padding=(1, 1))\n",
            "    (5): BatchNorm2d(64, eps=1e-05, momentum=0.1, affine=True, track_running_stats=True)\n",
            "    (6): ReLU()\n",
            "    (7): MaxPool2d(kernel_size=2, stride=2, padding=0, dilation=1, ceil_mode=False)\n",
            "  )\n",
            "  (avgpool): AdaptiveAvgPool2d(output_size=(7, 7))\n",
            "  (fc): Sequential(\n",
            "    (0): Linear(in_features=3136, out_features=128, bias=True)\n",
            "    (1): ReLU()\n",
            "    (2): Linear(in_features=128, out_features=64, bias=True)\n",
            "    (3): ReLU()\n",
            "    (4): Linear(in_features=64, out_features=10, bias=True)\n",
            "  )\n",
            ")\n"
          ],
          "name": "stdout"
        }
      ]
    },
    {
      "cell_type": "markdown",
      "metadata": {
        "id": "Fc_0TRv5Knd5",
        "colab_type": "text"
      },
      "source": [
        "\n",
        "\n",
        "---\n",
        "\n",
        "\n",
        "**Dimension Calculations**\n",
        "\n",
        "* $O=\\frac{W−K+2\\times P}{S}+1$\n",
        "> * O: output height/length\n",
        "> * W: input height/length\n",
        "> * K: filter size(kernel size)\n",
        "> * P: padding, $P=\\frac{K−1}{2}$\n",
        "> * S: stride"
      ]
    },
    {
      "cell_type": "markdown",
      "metadata": {
        "id": "5PqVaSBhI5mn",
        "colab_type": "text"
      },
      "source": [
        "![Model](https://www.deeplearningwizard.com/deep_learning/practical_pytorch/images/cnn10-2n.png)"
      ]
    },
    {
      "cell_type": "code",
      "metadata": {
        "id": "hYHvZOAlSl8U",
        "colab_type": "code",
        "colab": {
          "base_uri": "https://localhost:8080/",
          "height": 302
        },
        "outputId": "af886bec-6016-4704-d316-fcb27b31a22f"
      },
      "source": [
        "# Counting number parameters in a CNN model\n",
        "def count_model_layers(model):\n",
        "  conv = 0\n",
        "  fc = 0\n",
        "  for layer in model.modules():\n",
        "    if isinstance(layer, nn.Conv2d):\n",
        "      conv += 1\n",
        "    elif isinstance(layer, nn.Linear):\n",
        "      fc += 1\n",
        "\n",
        "  return conv, fc\n",
        "\n",
        "num_parameters = sum(torch.numel(parameter) for parameter in Cnn.parameters())\n",
        "print('Model Params: %.2f M' % (num_parameters / 1e6))\n",
        "print('Model: Convolutional layer: %s + Fully connected layer: %s' % count_model_layers(Cnn))\n",
        "\n",
        "params = list(Cnn.parameters())\n",
        "print(len(params))  # 列印層數\n",
        "\n",
        "for name, parameters in Cnn.named_parameters():\n",
        "  print(name, ':', parameters.size())"
      ],
      "execution_count": 7,
      "outputs": [
        {
          "output_type": "stream",
          "text": [
            "Model Params: 0.43 M\n",
            "Model: Convolutional layer: 2 + Fully connected layer: 3\n",
            "14\n",
            "features.0.weight : torch.Size([32, 1, 3, 3])\n",
            "features.0.bias : torch.Size([32])\n",
            "features.1.weight : torch.Size([32])\n",
            "features.1.bias : torch.Size([32])\n",
            "features.4.weight : torch.Size([64, 32, 3, 3])\n",
            "features.4.bias : torch.Size([64])\n",
            "features.5.weight : torch.Size([64])\n",
            "features.5.bias : torch.Size([64])\n",
            "fc.0.weight : torch.Size([128, 3136])\n",
            "fc.0.bias : torch.Size([128])\n",
            "fc.2.weight : torch.Size([64, 128])\n",
            "fc.2.bias : torch.Size([64])\n",
            "fc.4.weight : torch.Size([10, 64])\n",
            "fc.4.bias : torch.Size([10])\n"
          ],
          "name": "stdout"
        }
      ]
    },
    {
      "cell_type": "markdown",
      "metadata": {
        "id": "qCVL-sDUOTNl",
        "colab_type": "text"
      },
      "source": [
        "\n",
        "\n",
        "---\n",
        "\n",
        "\n",
        "![Comparison of Adam to other deep learning optimizers when training on the MNIST dataset](https://debuggercafe.com/wp-content/uploads/2020/06/adam_result_mnist.png)"
      ]
    },
    {
      "cell_type": "code",
      "metadata": {
        "id": "lPVuAfm6_4Kd",
        "colab_type": "code",
        "colab": {}
      },
      "source": [
        "# 參數(Parameters)設定\n",
        "Epochs = 3  # 訓練的迭代次數\n",
        "LearningRate = 0.001  # Learning rate，反向傳播的學習率\n",
        "Criterion = nn.CrossEntropyLoss()  # 損失函數(Loss function)\n",
        "Optimizer = optim.Adam(Cnn.parameters(), lr=LearningRate)  # 優化器optimize all cnn parameters"
      ],
      "execution_count": 8,
      "outputs": []
    },
    {
      "cell_type": "markdown",
      "metadata": {
        "id": "LKGoFCS1PZkV",
        "colab_type": "text"
      },
      "source": [
        "\n",
        "\n",
        "---\n",
        "\n",
        "\n",
        "![Training](https://2.bp.blogspot.com/-lo4ANmafiQM/WVpEeo68VPI/AAAAAAAAWxE/7FJBUGp-GrQFL5fUYEg6tQAJWXUHrtgWgCLcBGAs/s1600/3812_1.png)"
      ]
    },
    {
      "cell_type": "code",
      "metadata": {
        "id": "joIcVNyeAj13",
        "colab_type": "code",
        "colab": {
          "base_uri": "https://localhost:8080/",
          "height": 151
        },
        "outputId": "b2f5fbdb-e0ba-483a-92ef-580de85fa73f"
      },
      "source": [
        "# 訓練(Train)模型\n",
        "def training_net(Epochs, trainLoader, Criterion, Optimizer):\n",
        "  training_loss = []\n",
        "  validing_loss = []\n",
        "  training_accuracy = []\n",
        "  validing_accuracy = []\n",
        "  for epoch in range(Epochs):\n",
        "    train_start = time.time()\n",
        "    train_losss = 0.0\n",
        "    t_loss = 0.0\n",
        "    train_correct = 0\n",
        "    train_total = 0\n",
        "    Cnn.train()\n",
        "    for times, tdata in enumerate(TrainLoader):\n",
        "      tinputs, tlabels = tdata[0].to(device), tdata[1].to(device)\n",
        "\n",
        "      # 反向傳播(Backward propagation)，通過計算預測結果與正解的距離（即loss function），來反向地更新模型的權重，使模型越來越準確\n",
        "      # Zero the parameter gradients\n",
        "      Optimizer.zero_grad()  # 將參數、梯度緩衝區歸零\n",
        "\n",
        "      # Foward + backward + optimize\n",
        "      toutputs = Cnn(tinputs)\n",
        "      _, predicted = torch.max(toutputs.data, 1)\n",
        "      train_total += tlabels.size(0)\n",
        "      train_correct += (predicted == tlabels).sum().item()\n",
        "\n",
        "      train_loss = Criterion(toutputs, tlabels)\n",
        "      train_loss.backward()\n",
        "      train_accuracy = 100 * train_correct / float(train_total)\n",
        "      train_losss += train_loss.item()\n",
        "      t_loss = train_losss / (float(train_total) / BatchSize)\n",
        "\n",
        "      Optimizer.step()\n",
        "\n",
        "    training_accuracy.append(train_accuracy)\n",
        "    training_loss.append(t_loss)\n",
        "    # Print statistics\n",
        "    print('Epoch: [%d/%d, %d/%d] - <Train>, loss: %.6f, accuracy: %.4f %%, duration: %.4f sec' % (\n",
        "        (epoch + 1),\n",
        "        Epochs,\n",
        "        (times + 1),\n",
        "        len(TrainLoader),\n",
        "        t_loss,\n",
        "        train_accuracy,\n",
        "        (time.time() - train_start))\n",
        "    )\n",
        "\n",
        "    valid_start = time.time()\n",
        "    valid_losss = 0.0\n",
        "    v_loss = 0.0\n",
        "    valid_correct = 0\n",
        "    valid_total = 0\n",
        "    Cnn.eval()\n",
        "    for times, vdata in enumerate(ValidLoader):\n",
        "      vinputs, vlabels = vdata[0].to(device), vdata[1].to(device)\n",
        "      voutputs = Cnn(vinputs)\n",
        "      _, predicted = torch.max(voutputs.data, 1)\n",
        "      valid_total += vlabels.size(0)\n",
        "      valid_correct += (predicted == vlabels).sum().item()\n",
        "      valid_loss = Criterion(voutputs, vlabels)\n",
        "      valid_accuracy = 100 * valid_correct / float(valid_total)\n",
        "      valid_losss += valid_loss.item()\n",
        "      v_loss = valid_losss / (float(valid_total) / BatchSize)\n",
        "\n",
        "    validing_accuracy.append(valid_accuracy)\n",
        "    validing_loss.append(v_loss)\n",
        "    # Print statistics\n",
        "    print('Epoch: [%d/%d, %d/%d] - <Validation>, loss: %.6f, accuracy: %.4f %%, duration: %.4f sec' % (\n",
        "        (epoch + 1),\n",
        "        Epochs,\n",
        "        (times + 1),\n",
        "        len(ValidLoader),\n",
        "        v_loss,\n",
        "        valid_accuracy,\n",
        "        (time.time() - valid_start))\n",
        "    )\n",
        "\n",
        "  return training_loss, training_accuracy, validing_loss, validing_accuracy\n",
        "\n",
        "print('Started Training.')\n",
        "training_loss, training_accuracy, validing_loss, validing_accuracy = training_net(Epochs, TrainLoader, Criterion, Optimizer)\n",
        "print('Finished Training.')"
      ],
      "execution_count": 9,
      "outputs": [
        {
          "output_type": "stream",
          "text": [
            "Started Training.\n",
            "Epoch: [1/3, 2625/2625] - <Train>, loss: 0.135123, accuracy: 95.8167 %, duration: 16.4285 sec\n",
            "Epoch: [1/3, 1125/1125] - <Validation>, loss: 0.067453, accuracy: 98.0056 %, duration: 3.8944 sec\n",
            "Epoch: [2/3, 2625/2625] - <Train>, loss: 0.056744, accuracy: 98.2881 %, duration: 16.4047 sec\n",
            "Epoch: [2/3, 1125/1125] - <Validation>, loss: 0.055659, accuracy: 98.3778 %, duration: 3.9125 sec\n",
            "Epoch: [3/3, 2625/2625] - <Train>, loss: 0.042369, accuracy: 98.7381 %, duration: 16.4165 sec\n",
            "Epoch: [3/3, 1125/1125] - <Validation>, loss: 0.042887, accuracy: 98.7500 %, duration: 3.8973 sec\n",
            "Finished Training.\n"
          ],
          "name": "stdout"
        }
      ]
    },
    {
      "cell_type": "code",
      "metadata": {
        "colab_type": "code",
        "id": "TUEEnLZss-GX",
        "colab": {
          "base_uri": "https://localhost:8080/",
          "height": 573
        },
        "outputId": "9239e395-9b7e-430c-b401-09f35274f341"
      },
      "source": [
        "# 訓練、預測結果視覺化(visualization)\n",
        "plt.plot(range(Epochs), training_loss, 'b--', label='Training_loss')\n",
        "plt.plot(range(Epochs), validing_loss, 'g-', label='Validating_loss')\n",
        "plt.title('Training & Validating loss')\n",
        "plt.xlabel('Number of epochs')\n",
        "plt.ylabel('Loss')\n",
        "plt.legend()\n",
        "plt.show()\n",
        "\n",
        "plt.plot(range(Epochs), training_accuracy, 'b--', label='Training_accuracy')\n",
        "plt.plot(range(Epochs), validing_accuracy, 'g-', label='Validating_accuracy')\n",
        "plt.title('Training & Validating accuracy')\n",
        "plt.xlabel('Number of epochs')\n",
        "plt.ylabel('Accuracy')\n",
        "plt.legend()\n",
        "plt.show()"
      ],
      "execution_count": 10,
      "outputs": [
        {
          "output_type": "display_data",
          "data": {
            "image/png": "[encoded data removed]",
            "text/plain": [
              "<Figure size 432x288 with 1 Axes>"
            ]
          },
          "metadata": {
            "tags": [],
            "needs_background": "light"
          }
        },
        {
          "output_type": "display_data",
          "data": {
            "image/png": "[encoded data removed]",
            "text/plain": [
              "<Figure size 432x288 with 1 Axes>"
            ]
          },
          "metadata": {
            "tags": [],
            "needs_background": "light"
          }
        }
      ]
    },
    {
      "cell_type": "markdown",
      "metadata": {
        "id": "XERAYfg-QuX0",
        "colab_type": "text"
      },
      "source": [
        "\n",
        "\n",
        "---\n",
        "\n",
        "\n",
        "![Confusion Matrix](https://2.bp.blogspot.com/-EvSXDotTOwc/XMfeOGZ-CVI/AAAAAAAAEiE/oePFfvhfOQM11dgRn9FkPxlegCXbgOF4QCLcBGAs/s1600/confusionMatrxiUpdated.jpg)\n",
        "![F1 Score](https://4.bp.blogspot.com/-0CJRaFYOJZE/XMfpAkCCKRI/AAAAAAAAEjk/5q7y2hIULvsz62QApm7DOAXuc2u02Sn5wCEwYBhgL/s400/f%2Bscore.jpg)"
      ]
    },
    {
      "cell_type": "code",
      "metadata": {
        "id": "ekQ-jjSdnMtq",
        "colab_type": "code",
        "colab": {}
      },
      "source": [
        "# 儲存模型\n",
        "PATH = './cnn.pth'\n",
        "torch.save(Cnn, PATH)"
      ],
      "execution_count": 11,
      "outputs": []
    },
    {
      "cell_type": "code",
      "metadata": {
        "colab_type": "code",
        "id": "68bp4VmegUYw",
        "colab": {
          "base_uri": "https://localhost:8080/",
          "height": 168
        },
        "outputId": "7fe418a9-9093-44cd-95f5-faea61c2ccd8"
      },
      "source": [
        "# 模型評估-驗證指標(validation index)--混淆矩陣(Confusion Matrix)\n",
        "def evaluate(ValidLoader):\n",
        "  confusion_matrix = torch.zeros(NumClasses, NumClasses)\n",
        "  with torch.no_grad():\n",
        "    Cnn.eval()\n",
        "    for inputs, labels in ValidLoader:\n",
        "      inputs = inputs.to(device)\n",
        "      labels = labels.to(device)\n",
        "      outputs = Cnn(inputs) \n",
        "      _, predicted = torch.max(outputs, 1)\n",
        "      for t, p in zip(labels.view(-1), predicted.view(-1)):\n",
        "        confusion_matrix[t.long(), p.long()] += 1\n",
        "\n",
        "  # print('Confusion Matrix:\\n{}'.format(confusion_matrix.data.numpy()))\n",
        "  precision = confusion_matrix.diag() / confusion_matrix.sum(1)\n",
        "  print('Precision: {}'.format(precision.data.numpy()))\n",
        "  recall = confusion_matrix.diag() / confusion_matrix.sum(0)\n",
        "  print('Recall: {}'.format(recall.data.numpy()))\n",
        "  f1 = 2 * (precision * recall) / (precision + recall)\n",
        "  print('F1 Score: {}'.format(f1.data.numpy()))\n",
        "  mean = f1.mean()\n",
        "  print('Mean: {:.6f}'.format(mean))\n",
        "\n",
        "\n",
        "print('Started Evaluating.')\n",
        "evaluate(ValidLoader)\n",
        "print('Finished Evaluating.')"
      ],
      "execution_count": 12,
      "outputs": [
        {
          "output_type": "stream",
          "text": [
            "Started Evaluating.\n",
            "Precision: [0.9932848  0.9969574  0.9796143  0.9928018  0.98267186 0.9882716\n",
            " 0.99169433 0.98855585 0.97497153 0.9850993 ]\n",
            "Recall: [0.99106646 0.9844767  0.98613423 0.9787118  0.99547    0.98583746\n",
            " 0.9884106  0.9858696  0.99247247 0.98727876]\n",
            "F1 Score: [0.9921744  0.9906777  0.9828634  0.98570645 0.9890295  0.98705304\n",
            " 0.9900497  0.98721087 0.9836442  0.9861879 ]\n",
            "Mean: 0.987460\n",
            "Finished Evaluating.\n"
          ],
          "name": "stdout"
        }
      ]
    },
    {
      "cell_type": "code",
      "metadata": {
        "id": "8opaxFEJfNrD",
        "colab_type": "code",
        "colab": {}
      },
      "source": [
        "# 讀取模型\n",
        "Cnn_trained = torch.load(PATH)"
      ],
      "execution_count": 13,
      "outputs": []
    },
    {
      "cell_type": "markdown",
      "metadata": {
        "id": "oH4OJR9WSQ8s",
        "colab_type": "text"
      },
      "source": [
        "\n",
        "\n",
        "---\n",
        "\n",
        "\n",
        "![Test](https://research.binus.ac.id/airnd/wp-content/uploads/sites/12/2018/03/ConvNet-1-768x346.png)\n"
      ]
    },
    {
      "cell_type": "code",
      "metadata": {
        "id": "R24rvBcNBhPF",
        "colab_type": "code",
        "colab": {
          "base_uri": "https://localhost:8080/",
          "height": 235
        },
        "outputId": "0ef3ffe0-4a3d-4d3f-f8a5-12b805bca929"
      },
      "source": [
        "# 測試(Test)\n",
        "def testing_net(TestLoader):\n",
        "  test_start = time.time()\n",
        "  test_losss = 0.0\n",
        "  t_loss = 0.0\n",
        "  test_correct = 0\n",
        "  test_total = 0\n",
        "\n",
        "  Cnn_trained.eval()  # 模型評估模式，沒有要繼續訓練模型、而只拿來應用\n",
        "\n",
        "  with torch.no_grad():\n",
        "    for data in TestLoader:\n",
        "      inputs, labels = data\n",
        "      inputs, labels = inputs.to(device), labels.to(device)\n",
        "      outputs = Cnn_trained(inputs)\n",
        "      _, predicted = torch.max(outputs.data, 1)\n",
        "      test_loss = Criterion(outputs, labels)\n",
        "      test_total += labels.size(0)\n",
        "      test_correct += (predicted == labels).sum().item()\n",
        "      test_accuracy = 100 * test_correct / float(test_total)\n",
        "      test_losss += test_loss.item()\n",
        "      t_loss = test_losss / (float(test_total) / BatchSize)\n",
        "\n",
        "    print('Accuracy of the network on the 10000 test images: %.4f %%, loss: %.4f, duration: %.4f sec' % (\n",
        "        test_accuracy,\n",
        "        t_loss,\n",
        "        (time.time() - test_start)\n",
        "        )\n",
        "    )\n",
        "\n",
        "print('Started Testing.')\n",
        "testing_net(TestLoader)\n",
        "print('Finished Testing.')\n",
        "\n",
        "class_correct = [0 for i in range(10)]\n",
        "class_total = [0 for i in range(10)]\n",
        "\n",
        "with torch.no_grad():\n",
        "  Cnn_trained.eval()  # 模型評估模式\n",
        "  for data in TestLoader:\n",
        "    inputs, labels = data[0].to(device), data[1].to(device)\n",
        "\n",
        "    outputs = Cnn_trained(inputs)\n",
        "    _, predicted = torch.max(outputs, 1)\n",
        "    correct = (predicted == labels).squeeze()\n",
        "    for i in range(10):\n",
        "      label = labels[i]\n",
        "      class_correct[label] += correct[i].item()\n",
        "      class_total[label] += 1\n",
        "      # print(class_correct)\n",
        "      # print(class_total)\n",
        "\n",
        "# 列印10個類別的Accuracy\n",
        "for i in range(len(class_total)):\n",
        "  print('Accuracy of class[%d]: %3f' % (i, (class_correct[i] / class_total[i])))"
      ],
      "execution_count": 14,
      "outputs": [
        {
          "output_type": "stream",
          "text": [
            "Started Testing.\n",
            "Accuracy of the network on the 10000 test images: 98.8000 %, loss: 0.0376, duration: 2.0888 sec\n",
            "Finished Testing.\n",
            "Accuracy of class[0]: 0.993517\n",
            "Accuracy of class[1]: 1.000000\n",
            "Accuracy of class[2]: 0.986196\n",
            "Accuracy of class[3]: 0.990415\n",
            "Accuracy of class[4]: 0.989011\n",
            "Accuracy of class[5]: 0.985130\n",
            "Accuracy of class[6]: 0.986395\n",
            "Accuracy of class[7]: 0.985437\n",
            "Accuracy of class[8]: 0.983740\n",
            "Accuracy of class[9]: 0.978462\n"
          ],
          "name": "stdout"
        }
      ]
    },
    {
      "cell_type": "code",
      "metadata": {
        "id": "bf08ndI4JH7A",
        "colab_type": "code",
        "colab": {
          "base_uri": "https://localhost:8080/",
          "height": 34
        },
        "outputId": "15960fd1-7a8c-401c-83b6-4fab28fa93a0"
      },
      "source": [
        "# 只測試一張圖片\n",
        "correct = 0\n",
        "total = 0\n",
        "num = 1000  # 第1000張圖片\n",
        "\n",
        "Cnn_trained.eval()  # 模型評估模式，沒有要繼續訓練模型、而只拿來應用\n",
        "\n",
        "with torch.no_grad():\n",
        "  for data in Test10kLoader:\n",
        "    inputs, labels = data\n",
        "    inputs, labels = inputs.to(device), labels.to(device)\n",
        "    inputs = inputs[num].view((-1,1,28,28), -1)\n",
        "    outputs = Cnn_trained(inputs)\n",
        "    _, predicted = torch.max(outputs.data, 1)\n",
        "    total += 1\n",
        "    correct += (predicted == labels[num]).sum().item()\n",
        "    break\n",
        "\n",
        "print('Accuracy of the network on the #%d test image: %f %% -> [predict: %d, label: %d]' % (\n",
        "    num,\n",
        "    (100 * correct / total),\n",
        "    predicted,\n",
        "    labels[num]\n",
        "    )\n",
        ")"
      ],
      "execution_count": 15,
      "outputs": [
        {
          "output_type": "stream",
          "text": [
            "Accuracy of the network on the #1000 test image: 100.000000 % -> [predict: 9, label: 9]\n"
          ],
          "name": "stdout"
        }
      ]
    },
    {
      "cell_type": "code",
      "metadata": {
        "id": "SoAlPYhWIFLh",
        "colab_type": "code",
        "colab": {
          "base_uri": "https://localhost:8080/",
          "height": 112
        },
        "outputId": "885398f3-9ef2-46c3-eeba-070af3a15c39"
      },
      "source": [
        "# Test the network on the test data\n",
        "classes = ('0', '1', '2', '3', '4', '5', '6', '7', '8', '9')\n",
        "\n",
        "# functions to show an image\n",
        "def imshow(img):\n",
        "  img = img / 2 + 0.5  # unnormalize\n",
        "  npimg = img.numpy()\n",
        "  plt.imshow(np.transpose(npimg, (1, 2, 0)))\n",
        "  plt.show()\n",
        "\n",
        "\n",
        "dataiter = iter(TestLoader)\n",
        "images, labels = dataiter.next()\n",
        "\n",
        "# print images\n",
        "imshow(utils.make_grid(images[:8]))\n",
        "print('GroundTruth:', ''.join('%3s' % classes[labels[j]] for j in range(8)))"
      ],
      "execution_count": 16,
      "outputs": [
        {
          "output_type": "display_data",
          "data": {
            "image/png": "[encoded data removed]",
            "text/plain": [
              "<Figure size 432x288 with 1 Axes>"
            ]
          },
          "metadata": {
            "tags": [],
            "needs_background": "light"
          }
        },
        {
          "output_type": "stream",
          "text": [
            "GroundTruth:   7  2  1  0  4  1  4  9\n"
          ],
          "name": "stdout"
        }
      ]
    }
  ]
}